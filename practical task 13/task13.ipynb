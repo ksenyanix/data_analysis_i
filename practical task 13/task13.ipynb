{
 "cells": [
  {
   "cell_type": "code",
   "execution_count": 1,
   "metadata": {},
   "outputs": [
    {
     "data": {
      "text/plain": [
       "'\\nThe PSID data (csv, rda) provides various variables from the Panel Study of Income Dynamics 1982. \\nSuch variables are commonly used to estimate so-called wage equations that quantify the effect \\nof various determinants on a worker’s wage. In this data the monthly income from wages in \\nUS-Dollars (wage) is provided.\\n'"
      ]
     },
     "execution_count": 1,
     "metadata": {},
     "output_type": "execute_result"
    }
   ],
   "source": [
    "'''\n",
    "The PSID data (csv, rda) provides various variables from the Panel Study of Income Dynamics 1982. \n",
    "Such variables are commonly used to estimate so-called wage equations that quantify the effect \n",
    "of various determinants on a worker’s wage. In this data the monthly income from wages in \n",
    "US-Dollars (wage) is provided.\n",
    "'''"
   ]
  },
  {
   "cell_type": "code",
   "execution_count": 2,
   "metadata": {},
   "outputs": [],
   "source": [
    "import pandas as pd \n",
    "import numpy as np\n",
    "import matplotlib.pyplot as plt\n",
    "import statsmodels.api as sm\n",
    "import statsmodels.formula.api as smf"
   ]
  },
  {
   "cell_type": "code",
   "execution_count": 3,
   "metadata": {},
   "outputs": [
    {
     "data": {
      "text/html": [
       "<div>\n",
       "<style scoped>\n",
       "    .dataframe tbody tr th:only-of-type {\n",
       "        vertical-align: middle;\n",
       "    }\n",
       "\n",
       "    .dataframe tbody tr th {\n",
       "        vertical-align: top;\n",
       "    }\n",
       "\n",
       "    .dataframe thead th {\n",
       "        text-align: right;\n",
       "    }\n",
       "</style>\n",
       "<table border=\"1\" class=\"dataframe\">\n",
       "  <thead>\n",
       "    <tr style=\"text-align: right;\">\n",
       "      <th></th>\n",
       "      <th>wage</th>\n",
       "      <th>experience</th>\n",
       "      <th>education</th>\n",
       "      <th>gender</th>\n",
       "      <th>occupation</th>\n",
       "      <th>union</th>\n",
       "    </tr>\n",
       "  </thead>\n",
       "  <tbody>\n",
       "    <tr>\n",
       "      <th>0</th>\n",
       "      <td>515</td>\n",
       "      <td>9</td>\n",
       "      <td>9</td>\n",
       "      <td>male</td>\n",
       "      <td>white</td>\n",
       "      <td>no</td>\n",
       "    </tr>\n",
       "    <tr>\n",
       "      <th>1</th>\n",
       "      <td>912</td>\n",
       "      <td>36</td>\n",
       "      <td>11</td>\n",
       "      <td>male</td>\n",
       "      <td>blue</td>\n",
       "      <td>no</td>\n",
       "    </tr>\n",
       "    <tr>\n",
       "      <th>2</th>\n",
       "      <td>954</td>\n",
       "      <td>12</td>\n",
       "      <td>12</td>\n",
       "      <td>male</td>\n",
       "      <td>blue</td>\n",
       "      <td>yes</td>\n",
       "    </tr>\n",
       "    <tr>\n",
       "      <th>3</th>\n",
       "      <td>1474</td>\n",
       "      <td>16</td>\n",
       "      <td>16</td>\n",
       "      <td>male</td>\n",
       "      <td>white</td>\n",
       "      <td>no</td>\n",
       "    </tr>\n",
       "    <tr>\n",
       "      <th>4</th>\n",
       "      <td>1539</td>\n",
       "      <td>32</td>\n",
       "      <td>12</td>\n",
       "      <td>male</td>\n",
       "      <td>blue</td>\n",
       "      <td>no</td>\n",
       "    </tr>\n",
       "  </tbody>\n",
       "</table>\n",
       "</div>"
      ],
      "text/plain": [
       "   wage  experience  education gender occupation union\n",
       "0   515           9          9   male      white    no\n",
       "1   912          36         11   male       blue    no\n",
       "2   954          12         12   male       blue   yes\n",
       "3  1474          16         16   male      white    no\n",
       "4  1539          32         12   male       blue    no"
      ]
     },
     "execution_count": 3,
     "metadata": {},
     "output_type": "execute_result"
    }
   ],
   "source": [
    "df = pd.read_csv(\"PSID1982.csv\")\n",
    "df.head()"
   ]
  },
  {
   "cell_type": "markdown",
   "metadata": {},
   "source": [
    "* Plot wage. Why may a log-transformation of wage, i.e., log(wage), be more suitable for fitting a linear regression model"
   ]
  },
  {
   "cell_type": "code",
   "execution_count": 4,
   "metadata": {},
   "outputs": [
    {
     "data": {
      "image/png": "[encoded data removed]",
      "text/plain": [
       "<Figure size 432x288 with 1 Axes>"
      ]
     },
     "metadata": {
      "needs_background": "light"
     },
     "output_type": "display_data"
    }
   ],
   "source": [
    "df.boxplot(column='wage')\n",
    "plt.show()"
   ]
  },
  {
   "cell_type": "code",
   "execution_count": 5,
   "metadata": {},
   "outputs": [],
   "source": [
    "m = smf.ols(\"np.log(wage) ~ gender + union + education + experience\", data=df).fit()"
   ]
  },
  {
   "cell_type": "code",
   "execution_count": 6,
   "metadata": {},
   "outputs": [
    {
     "data": {
      "text/plain": [
       "[Text(0.5, 1.0, 'Normal Q-Q'),\n",
       " Text(0.5, 0, 'Theoretical Quantiles'),\n",
       " Text(0, 0.5, 'Standardized Residuals')]"
      ]
     },
     "execution_count": 6,
     "metadata": {},
     "output_type": "execute_result"
    },
    {
     "data": {
      "image/png": "[encoded data removed]",
      "text/plain": [
       "<Figure size 432x288 with 1 Axes>"
      ]
     },
     "metadata": {
      "needs_background": "light"
     },
     "output_type": "display_data"
    }
   ],
   "source": [
    "# Normal Q-Q plot\n",
    "from statsmodels.graphics.gofplots import ProbPlot\n",
    "norm_residuals = m.get_influence().resid_studentized_internal\n",
    "fig = plt.figure()\n",
    "ax = fig.add_subplot(2, 2, 2)\n",
    "QQ = ProbPlot(norm_residuals)\n",
    "QQ.qqplot(line='45', ax=ax)\n",
    "ax.set(title=\"Normal Q-Q\", xlabel=\"Theoretical Quantiles\", ylabel=\"Standardized Residuals\")"
   ]
  },
  {
   "cell_type": "code",
   "execution_count": 7,
   "metadata": {},
   "outputs": [
    {
     "data": {
      "text/plain": [
       "[Text(0.5, 1.0, 'Normal Q-Q'),\n",
       " Text(0.5, 0, 'Theoretical Quantiles'),\n",
       " Text(0, 0.5, 'Standardized Residuals')]"
      ]
     },
     "execution_count": 7,
     "metadata": {},
     "output_type": "execute_result"
    },
    {
     "data": {
      "image/png": "[encoded data removed]",
      "text/plain": [
       "<Figure size 432x288 with 1 Axes>"
      ]
     },
     "metadata": {
      "needs_background": "light"
     },
     "output_type": "display_data"
    }
   ],
   "source": [
    "m_2 = smf.ols(\"wage ~ gender + union + education + experience\", data=df).fit()\n",
    "norm_residuals = m_2.get_influence().resid_studentized_internal\n",
    "fig = plt.figure()\n",
    "ax = fig.add_subplot(2, 2, 2)\n",
    "QQ = ProbPlot(norm_residuals)\n",
    "QQ.qqplot(line='45', ax=ax)\n",
    "ax.set(title=\"Normal Q-Q\", xlabel=\"Theoretical Quantiles\", ylabel=\"Standardized Residuals\")"
   ]
  },
  {
   "cell_type": "markdown",
   "metadata": {},
   "source": [
    "> When looking at the \"QQ-Plot\", we can see that for the model with log, the residuals are more normally distributed compared to the model without the log of wage. \n",
    "The closer the dots are to the line, the more it fulfills the assumption of a normal distribution. At the end there will always be some deviations, but if they are as minor as here, we can conclude, that the residuals are normally distributed. \n"
   ]
  },
  {
   "cell_type": "markdown",
   "metadata": {},
   "source": [
    "> Log-transformation would be more suitable for fitting linear regression model because in this column there are many outliners (as we can see on boxplot). Log transformation de-emphasizes outliers and allows us to potentially obtain a bell-shaped distribution. The idea is that taking the log of the data can restore symmetry to the data."
   ]
  },
  {
   "cell_type": "markdown",
   "metadata": {},
   "source": [
    "* Estimate a linear regression model (via OLS) for log(wage) with gender (male/female), union membership (yes/no), education (in years), and work experience (in years) as explanatory variables. For *work experience* include both a linear and a quadratic effect."
   ]
  },
  {
   "cell_type": "code",
   "execution_count": 8,
   "metadata": {},
   "outputs": [
    {
     "name": "stdout",
     "output_type": "stream",
     "text": [
      "                            OLS Regression Results                            \n",
      "==============================================================================\n",
      "Dep. Variable:           np.log(wage)   R-squared:                       0.348\n",
      "Model:                            OLS   Adj. R-squared:                  0.342\n",
      "Method:                 Least Squares   F-statistic:                     58.25\n",
      "Date:                Thu, 27 Jan 2022   Prob (F-statistic):           1.46e-48\n",
      "Time:                        08:10:20   Log-Likelihood:                -194.29\n",
      "No. Observations:                 552   AIC:                             400.6\n",
      "Df Residuals:                     546   BIC:                             426.5\n",
      "Df Model:                           5                                         \n",
      "Covariance Type:            nonrobust                                         \n",
      "===========================================================================================\n",
      "                              coef    std err          t      P>|t|      [0.025      0.975]\n",
      "-------------------------------------------------------------------------------------------\n",
      "Intercept                   5.1608      0.120     43.156      0.000       4.926       5.396\n",
      "gender[T.male]              0.4078      0.051      7.966      0.000       0.307       0.508\n",
      "union[T.yes]                0.0855      0.032      2.649      0.008       0.022       0.149\n",
      "education                   0.0805      0.006     14.166      0.000       0.069       0.092\n",
      "experience                  0.0282      0.007      3.903      0.000       0.014       0.042\n",
      "np.power(experience, 2)    -0.0004      0.000     -2.950      0.003      -0.001      -0.000\n",
      "==============================================================================\n",
      "Omnibus:                        2.870   Durbin-Watson:                   1.829\n",
      "Prob(Omnibus):                  0.238   Jarque-Bera (JB):                2.914\n",
      "Skew:                          -0.083   Prob(JB):                        0.233\n",
      "Kurtosis:                       3.315   Cond. No.                     6.87e+03\n",
      "==============================================================================\n",
      "\n",
      "Notes:\n",
      "[1] Standard Errors assume that the covariance matrix of the errors is correctly specified.\n",
      "[2] The condition number is large, 6.87e+03. This might indicate that there are\n",
      "strong multicollinearity or other numerical problems.\n"
     ]
    }
   ],
   "source": [
    "model = smf.ols(\"np.log(wage) ~ gender + union + education + experience + np.power(experience, 2)\", data=df)\n",
    "m = model.fit()\n",
    "\n",
    "print(m.summary())"
   ]
  },
  {
   "cell_type": "markdown",
   "metadata": {},
   "source": [
    "> If the sex is male and the variable gender increases by one unit, the log(wage) increases by 0.4078 units. \\\n",
    "If you are a member of a union and this variable increases by one unit, the log(wage) increases by 0.0855 units. \\\n",
    "When education increases by one unit, the log(wage) increases by 0.0855 units. \\\n",
    "When experience increases by one unit, the log(wage) increases by 0.0282 units. \\\n",
    "When the experience^2 increases by one unit, the log(wage) decreases by 0.0004 units."
   ]
  },
  {
   "cell_type": "markdown",
   "metadata": {},
   "source": [
    "> low p-value (< 0.05) indicates that we can reject the null hypothesis. In other words, all predictors has a low p-value and is likely to be a meaningful addition to the model because changes in the predictor's value are related to changes in the response variable."
   ]
  },
  {
   "cell_type": "markdown",
   "metadata": {},
   "source": [
    "> R^2 statistic shows that 35% of the variability in the outcome data cannot be explained by the mode"
   ]
  },
  {
   "cell_type": "markdown",
   "metadata": {},
   "source": [
    "> df = 5, so it is not a complex model"
   ]
  },
  {
   "cell_type": "markdown",
   "metadata": {},
   "source": [
    "> High F-value shows us that we can reject the null hypothesis <br>\n",
    "Conclusion: the predictors' values are related to changes in the response (wage) variable. So we reject the Null hypothesis (that there is no relationships between these variables)"
   ]
  },
  {
   "cell_type": "markdown",
   "metadata": {},
   "source": [
    "* Perform a stepwise model selection in which you consider as upper limit the model with both 2-way interactions of gender with education as well as union with education"
   ]
  },
  {
   "cell_type": "code",
   "execution_count": 9,
   "metadata": {},
   "outputs": [],
   "source": [
    "df['wage'] = np.log(df['wage'])\n",
    "df['experience_2'] = np.power(df['experience'], 2)\n",
    "# i applied log functions to the variables because other way it won't work"
   ]
  },
  {
   "cell_type": "code",
   "execution_count": 10,
   "metadata": {},
   "outputs": [
    {
     "name": "stdout",
     "output_type": "stream",
     "text": [
      "Step:  aic= 400.5748441454323\n",
      "(' + education:union', 369.5850380368688)\n",
      "(' + gender:education:union', 372.2043266786511)\n",
      "(' + education:union:experience', 396.88352360823615)\n",
      "(' + experience:experience_2', 398.50915180292714)\n",
      "('', 400.5748441454323)\n",
      "(' + education:gender', 401.15221528767324)\n",
      "(' + education:experience_2', 401.40923423083314)\n",
      "(' + union:experience_2', 401.6656726797828)\n",
      "(' + education:experience', 401.75595316025124)\n",
      "(' + education:union:experience_2', 402.22928099387104)\n",
      "(' + union:experience', 402.29111923351593)\n",
      "(' + gender:experience', 402.3569072361622)\n",
      "(' + gender:experience_2', 402.5043357305899)\n",
      "(' + gender:union', 402.56115195334314)\n",
      "(' + education:gender:experience_2', 403.40484135221595)\n",
      "(' + education:gender:experience', 403.7553153724821)\n",
      "(' - union', 405.6228312065655)\n",
      "(' - experience_2', 407.3040322892009)\n",
      "(' - experience', 413.7668969374688)\n",
      "(' - gender', 459.27348405950056)\n",
      "(' - education', 571.3500537849675)\n",
      "Step:  aic= 369.5850380368688\n",
      "('', 369.5850380368688)\n",
      "(' + experience:experience_2', 369.7167001483872)\n",
      "(' + union:experience', 369.8741928455363)\n",
      "(' + education:gender', 370.7282929646408)\n",
      "(' + union:experience_2', 370.7402231600745)\n",
      "(' + education:experience_2', 371.16548352692007)\n",
      "(' + gender:union', 371.23340793262105)\n",
      "(' + education:experience', 371.4447752774536)\n",
      "(' + education:union:experience', 371.4551660292648)\n",
      "(' + gender:experience', 371.4783342083715)\n",
      "(' + gender:experience_2', 371.5533643288122)\n",
      "(' + education:union:experience_2', 371.77060706472776)\n",
      "(' + gender:education:union', 372.2043266786511)\n",
      "(' + education:gender:experience_2', 373.1601467041653)\n",
      "(' + education:gender:experience', 373.44474443005174)\n",
      "(' - experience_2', 379.20199910228325)\n",
      "(' - experience', 385.69792742003665)\n",
      "(' - education:union', 400.5748441454323)\n",
      "(' - gender', 425.55701168433825)\n",
      "Result: aic= 369.5850380368688\n",
      "wage ~ gender + union + education + experience + experience_2 + education:union\n"
     ]
    }
   ],
   "source": [
    "from stepwise_selection import stepwise_selection\n",
    "model_log = smf.ols(\"wage ~ gender + union + education + experience + experience_2\", data=df)\n",
    "mod = stepwise_selection(model_log, scope={\"lower\": \"wage ~ 1\",\n",
    "                                           \"upper\": \"wage ~ (education * gender + education * union + experience + experience_2)**2\" })"
   ]
  },
  {
   "cell_type": "markdown",
   "metadata": {},
   "source": [
    "> So the best model will be log(wage) ~ gender + union + education + experience + experience_2 + union:education \\\n",
    "Lower AIC scores are better, and AIC penalizes models that use more parameters."
   ]
  },
  {
   "cell_type": "markdown",
   "metadata": {},
   "source": [
    "> In the first model AIC decreases when adding the interaction effect between education and union as well as interaction between gender, union and education. Adding the interaction effect brings us lower AIC, therefore we do that. \n",
    "In the next step, our model can't be improved by adding or dropping something. \\\n",
    "In the final model wage depends on education, gender, union, experience, experience**2 and the interaction effect between education and union. \n"
   ]
  },
  {
   "cell_type": "markdown",
   "metadata": {},
   "source": [
    "* Describe the influence of education on wage in the selected model"
   ]
  },
  {
   "cell_type": "code",
   "execution_count": 11,
   "metadata": {},
   "outputs": [
    {
     "name": "stdout",
     "output_type": "stream",
     "text": [
      "                            OLS Regression Results                            \n",
      "==============================================================================\n",
      "Dep. Variable:                   wage   R-squared:                       0.386\n",
      "Model:                            OLS   Adj. R-squared:                  0.379\n",
      "Method:                 Least Squares   F-statistic:                     57.03\n",
      "Date:                Thu, 27 Jan 2022   Prob (F-statistic):           1.22e-54\n",
      "Time:                        08:10:21   Log-Likelihood:                -177.79\n",
      "No. Observations:                 552   AIC:                             369.6\n",
      "Df Residuals:                     545   BIC:                             399.8\n",
      "Df Model:                           6                                         \n",
      "Covariance Type:            nonrobust                                         \n",
      "==========================================================================================\n",
      "                             coef    std err          t      P>|t|      [0.025      0.975]\n",
      "------------------------------------------------------------------------------------------\n",
      "Intercept                  4.8983      0.125     39.285      0.000       4.653       5.143\n",
      "gender[T.male]             0.3873      0.050      7.769      0.000       0.289       0.485\n",
      "union[T.yes]               0.9275      0.149      6.238      0.000       0.635       1.220\n",
      "education                  0.1007      0.007     15.425      0.000       0.088       0.113\n",
      "education:union[T.yes]    -0.0680      0.012     -5.793      0.000      -0.091      -0.045\n",
      "experience                 0.0299      0.007      4.264      0.000       0.016       0.044\n",
      "experience_2              -0.0005      0.000     -3.405      0.001      -0.001      -0.000\n",
      "==============================================================================\n",
      "Omnibus:                        6.042   Durbin-Watson:                   1.837\n",
      "Prob(Omnibus):                  0.049   Jarque-Bera (JB):                6.717\n",
      "Skew:                          -0.157   Prob(JB):                       0.0348\n",
      "Kurtosis:                       3.440   Cond. No.                     9.58e+03\n",
      "==============================================================================\n",
      "\n",
      "Notes:\n",
      "[1] Standard Errors assume that the covariance matrix of the errors is correctly specified.\n",
      "[2] The condition number is large, 9.58e+03. This might indicate that there are\n",
      "strong multicollinearity or other numerical problems.\n"
     ]
    }
   ],
   "source": [
    "mod_fit = mod.fit()\n",
    "print(mod_fit.summary())"
   ]
  },
  {
   "cell_type": "markdown",
   "metadata": {},
   "source": [
    "> The *education* variable influences on *wage* alone and with a combination with a variable *union*. According to the table both of this interacions have an impact because p-value less than 0.05. \\\n",
    "Education in the interaction effect with union helps to reduce the AIC and reach the selected model.  "
   ]
  },
  {
   "cell_type": "markdown",
   "metadata": {},
   "source": [
    "> Influence of education on wage in the selected model:\n",
    "Education itself has a positive influence on wage in the selected model, because it decreases the AIC and furthermore, education in the interaction effect with union helps to reduce the AIC and reach the selected model.  \n"
   ]
  },
  {
   "cell_type": "markdown",
   "metadata": {},
   "source": [
    "* Calculate the specific regression equations according to the final model with log(wage) as a function of education for given values of gender, union, and experience. Consider the following four groups: male/union, female/union, male/without union, female/without union and each with average work experience."
   ]
  },
  {
   "cell_type": "markdown",
   "metadata": {},
   "source": [
    "> male/union"
   ]
  },
  {
   "cell_type": "markdown",
   "metadata": {},
   "source": [
    "log(wage) ~ (intercept) + gender + union + education + experience + experience_2 + union:education \\\n",
    "log(wage) = 4.9 + 0.39 * 1 + 0.93 * 1 + 0.1 * education - 0.07 * education + 0.0299 - 0.005 \\\n",
    "log(wage) = 6.24 - 0.03 * education"
   ]
  },
  {
   "cell_type": "markdown",
   "metadata": {},
   "source": [
    "> female/union"
   ]
  },
  {
   "cell_type": "markdown",
   "metadata": {},
   "source": [
    "log(wage) ~ (intercept) + gender + union + education + experience + experience_2 + union:education \\\n",
    "log(wage) = 4.9 + 0.39 * 0 + 0.93 * 1 + 0.1 * education - 0.7 * education + 0.0299 - 0.005 \\\n",
    "log(wage) = 5.85 - 0.03 * education"
   ]
  },
  {
   "cell_type": "markdown",
   "metadata": {},
   "source": [
    "> male/without union"
   ]
  },
  {
   "cell_type": "markdown",
   "metadata": {},
   "source": [
    "log(wage) ~ (intercept) + gender + union + education + experience + experience_2 + union:education \\\n",
    "log(wage) = 4.9 + 0.39 * 1 + 0.93 * 0 + 0.1 * education - 0.7 * education + 0.0299 - 0.005 \\\n",
    "log(wage) = 5.31 - 0.03 * education"
   ]
  },
  {
   "cell_type": "markdown",
   "metadata": {},
   "source": [
    ">female/without union"
   ]
  },
  {
   "cell_type": "markdown",
   "metadata": {},
   "source": [
    "log(wage) ~ (intercept) + gender + union + education + experience + experience_2 + union:education \\\n",
    "log(wage) = 4.9 + 0.39 * 0 + 0.93 * 0 + 0.1 * education - 0.7 * education + 0.0299 - 0.005 \\\n",
    "log(wage) = 4.92 - 0.03 * education"
   ]
  },
  {
   "cell_type": "markdown",
   "metadata": {},
   "source": []
  }
 ],
 "metadata": {
  "interpreter": {
   "hash": "67645e4edde45144644326d4815cd26b14c8093db79836f9b69d4c3e18d9122c"
  },
  "kernelspec": {
   "display_name": "Python 3.8.10 64-bit (windows store)",
   "language": "python",
   "name": "python3"
  },
  "language_info": {
   "codemirror_mode": {
    "name": "ipython",
    "version": 3
   },
   "file_extension": ".py",
   "mimetype": "text/x-python",
   "name": "python",
   "nbconvert_exporter": "python",
   "pygments_lexer": "ipython3",
   "version": "3.8.10"
  },
  "orig_nbformat": 4
 },
 "nbformat": 4,
 "nbformat_minor": 2
}
