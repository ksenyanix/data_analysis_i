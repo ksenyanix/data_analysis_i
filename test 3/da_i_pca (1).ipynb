{
  "nbformat": 4,
  "nbformat_minor": 0,
  "metadata": {
    "colab": {
      "name": "da_i_pca.ipynb",
      "provenance": []
    },
    "interpreter": {
      "hash": "67645e4edde45144644326d4815cd26b14c8093db79836f9b69d4c3e18d9122c"
    },
    "kernelspec": {
      "display_name": "Python 3.8.10 64-bit (windows store)",
      "name": "python3"
    },
    "language_info": {
      "codemirror_mode": {
        "name": "ipython",
        "version": 3
      },
      "file_extension": ".py",
      "mimetype": "text/x-python",
      "name": "python",
      "nbconvert_exporter": "python",
      "pygments_lexer": "ipython3",
      "version": "3.8.10"
    }
  },
  "cells": [
    {
      "cell_type": "code",
      "metadata": {
        "colab": {
          "base_uri": "https://localhost:8080/"
        },
        "id": "6nlANHTuEA9r",
        "outputId": "f870249b-89d9-46e3-bc53-6e3e44544589"
      },
      "source": [
        "pip install pca"
      ],
      "execution_count": null,
      "outputs": [
        {
          "output_type": "stream",
          "name": "stdout",
          "text": [
            "Collecting pca\n",
            "  Downloading pca-1.5.2-py3-none-any.whl (24 kB)\n",
            "Collecting wget\n",
            "  Downloading wget-3.2.zip (10 kB)\n",
            "Requirement already satisfied: sklearn in /usr/local/lib/python3.7/dist-packages (from pca) (0.0)\n",
            "Requirement already satisfied: numpy in /usr/local/lib/python3.7/dist-packages (from pca) (1.19.5)\n",
            "Collecting colourmap\n",
            "  Downloading colourmap-0.1.1-py3-none-any.whl (5.5 kB)\n",
            "Requirement already satisfied: scipy in /usr/local/lib/python3.7/dist-packages (from pca) (1.4.1)\n",
            "Requirement already satisfied: pandas in /usr/local/lib/python3.7/dist-packages (from pca) (1.1.5)\n",
            "Requirement already satisfied: tqdm in /usr/local/lib/python3.7/dist-packages (from pca) (4.62.3)\n",
            "Requirement already satisfied: matplotlib in /usr/local/lib/python3.7/dist-packages (from pca) (3.2.2)\n",
            "Requirement already satisfied: cycler>=0.10 in /usr/local/lib/python3.7/dist-packages (from matplotlib->pca) (0.10.0)\n",
            "Requirement already satisfied: pyparsing!=2.0.4,!=2.1.2,!=2.1.6,>=2.0.1 in /usr/local/lib/python3.7/dist-packages (from matplotlib->pca) (2.4.7)\n",
            "Requirement already satisfied: kiwisolver>=1.0.1 in /usr/local/lib/python3.7/dist-packages (from matplotlib->pca) (1.3.2)\n",
            "Requirement already satisfied: python-dateutil>=2.1 in /usr/local/lib/python3.7/dist-packages (from matplotlib->pca) (2.8.2)\n",
            "Requirement already satisfied: six in /usr/local/lib/python3.7/dist-packages (from cycler>=0.10->matplotlib->pca) (1.15.0)\n",
            "Requirement already satisfied: pytz>=2017.2 in /usr/local/lib/python3.7/dist-packages (from pandas->pca) (2018.9)\n",
            "Requirement already satisfied: scikit-learn in /usr/local/lib/python3.7/dist-packages (from sklearn->pca) (0.22.2.post1)\n",
            "Requirement already satisfied: joblib>=0.11 in /usr/local/lib/python3.7/dist-packages (from scikit-learn->sklearn->pca) (1.0.1)\n",
            "Building wheels for collected packages: wget\n",
            "  Building wheel for wget (setup.py) ... \u001b[?25l\u001b[?25hdone\n",
            "  Created wheel for wget: filename=wget-3.2-py3-none-any.whl size=9672 sha256=81bb4d3021a8ca719ba10afd95d4a4688b32d4f51b89e2c59d24475704835fe7\n",
            "  Stored in directory: /root/.cache/pip/wheels/a1/b6/7c/0e63e34eb06634181c63adacca38b79ff8f35c37e3c13e3c02\n",
            "Successfully built wget\n",
            "Installing collected packages: wget, colourmap, pca\n",
            "Successfully installed colourmap-0.1.1 pca-1.5.2 wget-3.2\n"
          ]
        }
      ]
    },
    {
      "cell_type": "code",
      "metadata": {
        "id": "4hhQc4BYfSL6"
      },
      "source": [
        "import pandas as pd \n",
        "import numpy as np\n",
        "import matplotlib.pyplot as plt\n",
        "from pca import pca"
      ],
      "execution_count": null,
      "outputs": []
    },
    {
      "cell_type": "code",
      "metadata": {
        "id": "zIwsNhPCfSL-"
      },
      "source": [
        "pd.set_option('display.precision', 3)\n",
        "df = pd.read_csv('sing.csv')"
      ],
      "execution_count": null,
      "outputs": []
    },
    {
      "cell_type": "code",
      "metadata": {
        "colab": {
          "base_uri": "https://localhost:8080/",
          "height": 417
        },
        "id": "pNALljNPfSL_",
        "outputId": "ed8121a8-5552-4a55-f05d-09627b6ff089"
      },
      "source": [
        "df"
      ],
      "execution_count": null,
      "outputs": [
        {
          "output_type": "execute_result",
          "data": {
            "text/html": [
              "<div>\n",
              "<style scoped>\n",
              "    .dataframe tbody tr th:only-of-type {\n",
              "        vertical-align: middle;\n",
              "    }\n",
              "\n",
              "    .dataframe tbody tr th {\n",
              "        vertical-align: top;\n",
              "    }\n",
              "\n",
              "    .dataframe thead th {\n",
              "        text-align: right;\n",
              "    }\n",
              "</style>\n",
              "<table border=\"1\" class=\"dataframe\">\n",
              "  <thead>\n",
              "    <tr style=\"text-align: right;\">\n",
              "      <th></th>\n",
              "      <th>singer</th>\n",
              "      <th>romantic</th>\n",
              "      <th>trendy</th>\n",
              "      <th>rocky</th>\n",
              "      <th>danceable</th>\n",
              "      <th>relaxing</th>\n",
              "      <th>boring</th>\n",
              "    </tr>\n",
              "  </thead>\n",
              "  <tbody>\n",
              "    <tr>\n",
              "      <th>0</th>\n",
              "      <td>Andy</td>\n",
              "      <td>0.925</td>\n",
              "      <td>-0.795</td>\n",
              "      <td>-0.771</td>\n",
              "      <td>0.448</td>\n",
              "      <td>1.046</td>\n",
              "      <td>-0.161</td>\n",
              "    </tr>\n",
              "    <tr>\n",
              "      <th>1</th>\n",
              "      <td>Billy</td>\n",
              "      <td>1.315</td>\n",
              "      <td>-0.883</td>\n",
              "      <td>-0.865</td>\n",
              "      <td>-1.368</td>\n",
              "      <td>0.952</td>\n",
              "      <td>-0.671</td>\n",
              "    </tr>\n",
              "    <tr>\n",
              "      <th>2</th>\n",
              "      <td>Danny</td>\n",
              "      <td>0.984</td>\n",
              "      <td>-0.769</td>\n",
              "      <td>-0.876</td>\n",
              "      <td>-0.059</td>\n",
              "      <td>1.054</td>\n",
              "      <td>1.018</td>\n",
              "    </tr>\n",
              "    <tr>\n",
              "      <th>3</th>\n",
              "      <td>Frankie</td>\n",
              "      <td>1.086</td>\n",
              "      <td>-1.054</td>\n",
              "      <td>-0.758</td>\n",
              "      <td>-1.732</td>\n",
              "      <td>0.789</td>\n",
              "      <td>-0.856</td>\n",
              "    </tr>\n",
              "    <tr>\n",
              "      <th>4</th>\n",
              "      <td>Gary</td>\n",
              "      <td>0.464</td>\n",
              "      <td>-1.096</td>\n",
              "      <td>-0.884</td>\n",
              "      <td>0.010</td>\n",
              "      <td>0.788</td>\n",
              "      <td>0.430</td>\n",
              "    </tr>\n",
              "    <tr>\n",
              "      <th>5</th>\n",
              "      <td>Howie</td>\n",
              "      <td>0.607</td>\n",
              "      <td>-1.023</td>\n",
              "      <td>-1.326</td>\n",
              "      <td>0.436</td>\n",
              "      <td>0.894</td>\n",
              "      <td>0.951</td>\n",
              "    </tr>\n",
              "    <tr>\n",
              "      <th>6</th>\n",
              "      <td>Joey</td>\n",
              "      <td>-0.161</td>\n",
              "      <td>1.203</td>\n",
              "      <td>0.907</td>\n",
              "      <td>-0.132</td>\n",
              "      <td>-0.446</td>\n",
              "      <td>-1.938</td>\n",
              "    </tr>\n",
              "    <tr>\n",
              "      <th>7</th>\n",
              "      <td>Louie</td>\n",
              "      <td>-0.950</td>\n",
              "      <td>0.721</td>\n",
              "      <td>0.817</td>\n",
              "      <td>0.898</td>\n",
              "      <td>-1.218</td>\n",
              "      <td>1.119</td>\n",
              "    </tr>\n",
              "    <tr>\n",
              "      <th>8</th>\n",
              "      <td>Mickey</td>\n",
              "      <td>-1.222</td>\n",
              "      <td>0.799</td>\n",
              "      <td>0.759</td>\n",
              "      <td>-0.708</td>\n",
              "      <td>-0.918</td>\n",
              "      <td>-0.813</td>\n",
              "    </tr>\n",
              "    <tr>\n",
              "      <th>9</th>\n",
              "      <td>Paulie</td>\n",
              "      <td>-0.978</td>\n",
              "      <td>1.208</td>\n",
              "      <td>0.546</td>\n",
              "      <td>2.090</td>\n",
              "      <td>-0.442</td>\n",
              "      <td>-0.123</td>\n",
              "    </tr>\n",
              "    <tr>\n",
              "      <th>10</th>\n",
              "      <td>Robbie</td>\n",
              "      <td>-0.748</td>\n",
              "      <td>1.115</td>\n",
              "      <td>1.676</td>\n",
              "      <td>0.188</td>\n",
              "      <td>-1.209</td>\n",
              "      <td>1.370</td>\n",
              "    </tr>\n",
              "    <tr>\n",
              "      <th>11</th>\n",
              "      <td>Tony</td>\n",
              "      <td>-1.321</td>\n",
              "      <td>0.573</td>\n",
              "      <td>0.775</td>\n",
              "      <td>-0.072</td>\n",
              "      <td>-1.290</td>\n",
              "      <td>-0.325</td>\n",
              "    </tr>\n",
              "  </tbody>\n",
              "</table>\n",
              "</div>"
            ],
            "text/plain": [
              "     singer  romantic  trendy  rocky  danceable  relaxing  boring\n",
              "0      Andy     0.925  -0.795 -0.771      0.448     1.046  -0.161\n",
              "1     Billy     1.315  -0.883 -0.865     -1.368     0.952  -0.671\n",
              "2     Danny     0.984  -0.769 -0.876     -0.059     1.054   1.018\n",
              "3   Frankie     1.086  -1.054 -0.758     -1.732     0.789  -0.856\n",
              "4      Gary     0.464  -1.096 -0.884      0.010     0.788   0.430\n",
              "5     Howie     0.607  -1.023 -1.326      0.436     0.894   0.951\n",
              "6      Joey    -0.161   1.203  0.907     -0.132    -0.446  -1.938\n",
              "7     Louie    -0.950   0.721  0.817      0.898    -1.218   1.119\n",
              "8    Mickey    -1.222   0.799  0.759     -0.708    -0.918  -0.813\n",
              "9    Paulie    -0.978   1.208  0.546      2.090    -0.442  -0.123\n",
              "10   Robbie    -0.748   1.115  1.676      0.188    -1.209   1.370\n",
              "11     Tony    -1.321   0.573  0.775     -0.072    -1.290  -0.325"
            ]
          },
          "metadata": {},
          "execution_count": 70
        }
      ]
    },
    {
      "cell_type": "code",
      "metadata": {
        "colab": {
          "base_uri": "https://localhost:8080/"
        },
        "id": "ytbeesT1ecmk",
        "outputId": "940d34b5-d3c5-4c99-b09d-4b896fcc9b3f"
      },
      "source": [
        "from pca import pca\n",
        "df_pca = pca(n_components = 5, normalize=True)\n",
        "\n",
        "# Fit transform\n",
        "pca_results = df_pca.fit_transform(df.iloc[:, 1:])\n",
        "\n",
        "\n",
        "print(pca_results['PC'].std()**2)"
      ],
      "execution_count": null,
      "outputs": [
        {
          "output_type": "stream",
          "name": "stdout",
          "text": [
            "[pca] >Processing dataframe..\n",
            "[pca] >Normalizing input data per feature (zero mean and unit variance)..\n",
            "[pca] >The PCA reduction is performed on the [6] columns of the input dataframe.\n",
            "[pca] >Fitting using PCA..\n",
            "[pca] >Computing loadings and PCs..\n",
            "[pca] >Computing explained variance..\n",
            "[pca] >Outlier detection using Hotelling T2 test with alpha=[0.05] and n_components=[5]\n",
            "[pca] >Outlier detection using SPE/DmodX with n_std=[2]\n",
            "PC1    4.278\n",
            "PC2    1.476\n",
            "PC3    0.584\n",
            "PC4    0.174\n",
            "PC5    0.021\n",
            "dtype: float64\n"
          ]
        }
      ]
    },
    {
      "cell_type": "code",
      "metadata": {
        "colab": {
          "base_uri": "https://localhost:8080/"
        },
        "id": "SKScovqRgIx-",
        "outputId": "f70aac75-d837-4ebd-c5d6-aa1be4d42f91"
      },
      "source": [
        "print(pca_results)"
      ],
      "execution_count": null,
      "outputs": [
        {
          "output_type": "stream",
          "name": "stdout",
          "text": [
            "{'loadings':      romantic  trendy  rocky  danceable  relaxing  boring\n",
            "PC1    -0.483   0.486  0.481      0.249    -0.487   0.010\n",
            "PC2     0.018   0.115  0.143     -0.600    -0.084  -0.774\n",
            "PC3     0.046   0.173 -0.194      0.708     0.284  -0.590\n",
            "PC4     0.707   0.425  0.499      0.012     0.225   0.139\n",
            "PC5    -0.344   0.633 -0.327     -0.275     0.514   0.183, 'PC':       PC1    PC2    PC3    PC4    PC5\n",
            "0  -1.675 -0.436  0.799  0.156 -0.193\n",
            "1  -2.392  1.106 -0.236  0.238  0.015\n",
            "2  -1.868 -1.083 -0.271  0.323  0.215\n",
            "3  -2.324  1.489 -0.503 -0.021 -0.070\n",
            "4  -1.629 -0.678 -0.019 -0.358 -0.087\n",
            "5  -1.824 -1.430  0.116 -0.344  0.095\n",
            "6   1.321  1.965  0.989  0.502 -0.029\n",
            "7   2.120 -1.170 -0.468 -0.069 -0.159\n",
            "8   1.678  1.368 -0.364 -0.494  0.264\n",
            "9   2.148 -0.965  1.551  0.003  0.102\n",
            "10  2.463 -0.749 -1.239  0.733 -0.008\n",
            "11  1.981  0.581 -0.354 -0.668 -0.145, 'explained_var': array([0.65355464, 0.87900918, 0.96830299, 0.99491559, 0.99813961]), 'model': PCA(copy=True, iterated_power='auto', n_components=5, random_state=None,\n",
            "    svd_solver='auto', tol=0.0, whiten=False), 'scaler': StandardScaler(copy=True, with_mean=True, with_std=True), 'pcp': 0.9981396093316753, 'topfeat':     PC    feature  loading  type\n",
            "0  PC1   relaxing   -0.487  best\n",
            "1  PC2     boring   -0.774  best\n",
            "2  PC3  danceable    0.708  best\n",
            "3  PC4   romantic    0.707  best\n",
            "4  PC5     trendy    0.633  best\n",
            "5  PC4      rocky    0.499  weak, 'outliers':     y_proba  y_score  y_bool  y_bool_spe  y_score_spe\n",
            "0     0.729    6.958   False       False        1.731\n",
            "1     0.423   10.197   False       False        2.636\n",
            "2     0.587    8.427   False       False        2.159\n",
            "3     0.335   11.292   False       False        2.760\n",
            "4     0.817    5.978   False       False        1.764\n",
            "5     0.543    8.887   False       False        2.317\n",
            "6     0.348   11.129   False       False        2.367\n",
            "7     0.481    9.547   False       False        2.421\n",
            "8     0.518    9.149   False       False        2.165\n",
            "9     0.298   11.814   False       False        2.354\n",
            "10    0.227   12.934   False       False        2.575\n",
            "11    0.592    8.380   False       False        2.064, 'outliers_params': {'paramT2': (-1.295260195396016e-17, 1.1977675311980107), 'paramSPE': (array([3.51570624e-16, 0.00000000e+00]), array([[4.27781218e+00, 3.59159889e-16],\n",
            "       [3.59159889e-16, 1.47570248e+00]]))}}\n"
          ]
        }
      ]
    },
    {
      "cell_type": "code",
      "metadata": {
        "colab": {
          "base_uri": "https://localhost:8080/",
          "height": 541
        },
        "id": "y0ibhG7mgUTS",
        "outputId": "edfdfa01-6060-42c4-d113-521dd2d9698a"
      },
      "source": [
        "# Plot explained variance\n",
        "fig, ax = df_pca.plot()"
      ],
      "execution_count": null,
      "outputs": [
        {
          "output_type": "display_data",
          "data": {
            "image/png": "[encoded data removed]",
            "text/plain": [
              "<Figure size 720x576 with 1 Axes>"
            ]
          },
          "metadata": {
            "needs_background": "light"
          }
        },
        {
          "output_type": "display_data",
          "data": {
            "text/plain": [
              "<Figure size 432x288 with 0 Axes>"
            ]
          },
          "metadata": {}
        }
      ]
    },
    {
      "cell_type": "code",
      "metadata": {
        "colab": {
          "base_uri": "https://localhost:8080/",
          "height": 513
        },
        "id": "mrd2i95lghSi",
        "outputId": "c5fe6874-afc5-4383-c586-b55d0b4c6e67"
      },
      "source": [
        "# Make biplot with the number of features\n",
        "fig, ax = df_pca.biplot()#(n_feat=8)"
      ],
      "execution_count": null,
      "outputs": [
        {
          "output_type": "display_data",
          "data": {
            "image/png": "[encoded data removed]",
            "text/plain": [
              "<Figure size 720x576 with 1 Axes>"
            ]
          },
          "metadata": {
            "needs_background": "light"
          }
        }
      ]
    },
    {
      "cell_type": "code",
      "metadata": {
        "id": "UTwzklRfFDiu"
      },
      "source": [
        "from sklearn.decomposition import PCA"
      ],
      "execution_count": null,
      "outputs": []
    },
    {
      "cell_type": "code",
      "metadata": {
        "id": "CStiSUwmE_7d"
      },
      "source": [
        "pca = PCA(n_components=5)"
      ],
      "execution_count": null,
      "outputs": []
    },
    {
      "cell_type": "code",
      "metadata": {
        "colab": {
          "base_uri": "https://localhost:8080/"
        },
        "id": "swQMmpYZD_r4",
        "outputId": "2c727d33-d0f9-4a85-ddb6-97383a8264bc"
      },
      "source": [
        "pca.fit(df.iloc[:, 1:])"
      ],
      "execution_count": null,
      "outputs": [
        {
          "output_type": "execute_result",
          "data": {
            "text/plain": [
              "PCA(copy=True, iterated_power='auto', n_components=5, random_state=None,\n",
              "    svd_solver='auto', tol=0.0, whiten=False)"
            ]
          },
          "metadata": {},
          "execution_count": 77
        }
      ]
    },
    {
      "cell_type": "code",
      "metadata": {
        "colab": {
          "base_uri": "https://localhost:8080/"
        },
        "id": "QtIy-r7gD_r7",
        "outputId": "f96690e5-f4ae-4c96-da0f-da1ea988c091"
      },
      "source": [
        "print(pca.explained_variance_ratio_)"
      ],
      "execution_count": null,
      "outputs": [
        {
          "output_type": "stream",
          "name": "stdout",
          "text": [
            "[0.65352982 0.22547594 0.08929886 0.02661113 0.0032239 ]\n"
          ]
        }
      ]
    },
    {
      "cell_type": "code",
      "metadata": {
        "colab": {
          "base_uri": "https://localhost:8080/",
          "height": 263
        },
        "id": "ZiH5abaKFMej",
        "outputId": "130f40a2-87b8-429a-c8e6-2404b8fd2f0f"
      },
      "source": [
        "loadings = pca.components_\n",
        "num_pc = pca.n_features_\n",
        "pc_list = [\"PC\"+str(i) for i in list(range(1, num_pc+1))]\n",
        "loadings_df = pd.DataFrame.from_dict(dict(zip(pc_list, loadings)))\n",
        "loadings_df['variable'] = df.columns.values[:-1]\n",
        "loadings_df = loadings_df.set_index('variable')\n",
        "loadings_df\n",
        "# output\n",
        "\n",
        "# positive and negative values in component loadings reflects the positive and negative \n",
        "# correlation of the variables with the PCs. Except A and B, all other variables have \n",
        "# positive projection on first PC."
      ],
      "execution_count": null,
      "outputs": [
        {
          "output_type": "execute_result",
          "data": {
            "text/html": [
              "<div>\n",
              "<style scoped>\n",
              "    .dataframe tbody tr th:only-of-type {\n",
              "        vertical-align: middle;\n",
              "    }\n",
              "\n",
              "    .dataframe tbody tr th {\n",
              "        vertical-align: top;\n",
              "    }\n",
              "\n",
              "    .dataframe thead th {\n",
              "        text-align: right;\n",
              "    }\n",
              "</style>\n",
              "<table border=\"1\" class=\"dataframe\">\n",
              "  <thead>\n",
              "    <tr style=\"text-align: right;\">\n",
              "      <th></th>\n",
              "      <th>PC1</th>\n",
              "      <th>PC2</th>\n",
              "      <th>PC3</th>\n",
              "      <th>PC4</th>\n",
              "      <th>PC5</th>\n",
              "    </tr>\n",
              "    <tr>\n",
              "      <th>variable</th>\n",
              "      <th></th>\n",
              "      <th></th>\n",
              "      <th></th>\n",
              "      <th></th>\n",
              "      <th></th>\n",
              "    </tr>\n",
              "  </thead>\n",
              "  <tbody>\n",
              "    <tr>\n",
              "      <th>singer</th>\n",
              "      <td>-0.483</td>\n",
              "      <td>0.018</td>\n",
              "      <td>0.046</td>\n",
              "      <td>0.707</td>\n",
              "      <td>-0.345</td>\n",
              "    </tr>\n",
              "    <tr>\n",
              "      <th>romantic</th>\n",
              "      <td>0.486</td>\n",
              "      <td>0.115</td>\n",
              "      <td>0.173</td>\n",
              "      <td>0.425</td>\n",
              "      <td>0.633</td>\n",
              "    </tr>\n",
              "    <tr>\n",
              "      <th>trendy</th>\n",
              "      <td>0.481</td>\n",
              "      <td>0.143</td>\n",
              "      <td>-0.194</td>\n",
              "      <td>0.499</td>\n",
              "      <td>-0.327</td>\n",
              "    </tr>\n",
              "    <tr>\n",
              "      <th>rocky</th>\n",
              "      <td>0.249</td>\n",
              "      <td>-0.600</td>\n",
              "      <td>0.708</td>\n",
              "      <td>0.012</td>\n",
              "      <td>-0.275</td>\n",
              "    </tr>\n",
              "    <tr>\n",
              "      <th>danceable</th>\n",
              "      <td>-0.487</td>\n",
              "      <td>-0.084</td>\n",
              "      <td>0.284</td>\n",
              "      <td>0.225</td>\n",
              "      <td>0.514</td>\n",
              "    </tr>\n",
              "    <tr>\n",
              "      <th>relaxing</th>\n",
              "      <td>0.010</td>\n",
              "      <td>-0.774</td>\n",
              "      <td>-0.590</td>\n",
              "      <td>0.139</td>\n",
              "      <td>0.183</td>\n",
              "    </tr>\n",
              "  </tbody>\n",
              "</table>\n",
              "</div>"
            ],
            "text/plain": [
              "             PC1    PC2    PC3    PC4    PC5\n",
              "variable                                    \n",
              "singer    -0.483  0.018  0.046  0.707 -0.345\n",
              "romantic   0.486  0.115  0.173  0.425  0.633\n",
              "trendy     0.481  0.143 -0.194  0.499 -0.327\n",
              "rocky      0.249 -0.600  0.708  0.012 -0.275\n",
              "danceable -0.487 -0.084  0.284  0.225  0.514\n",
              "relaxing   0.010 -0.774 -0.590  0.139  0.183"
            ]
          },
          "metadata": {},
          "execution_count": 79
        }
      ]
    },
    {
      "cell_type": "code",
      "metadata": {
        "colab": {
          "base_uri": "https://localhost:8080/"
        },
        "id": "ZS9y1KMpULkh",
        "outputId": "6942dce6-8f4f-462c-ba79-cce4d12cef0b"
      },
      "source": [
        "print(-0.483*0.925-0.795*0.486-0.771*0.481+0.448*0.249-0.487*1.046-0.161*0.010)\n"
      ],
      "execution_count": null,
      "outputs": [
        {
          "output_type": "stream",
          "name": "stdout",
          "text": [
            "-1.603456\n"
          ]
        }
      ]
    },
    {
      "cell_type": "code",
      "metadata": {
        "id": "KBPZl4txV7Ou",
        "colab": {
          "base_uri": "https://localhost:8080/",
          "height": 584
        },
        "outputId": "3a4b4d2f-0fa5-4ab2-f879-8f4e26870e51"
      },
      "source": [
        "import seaborn as sns\n",
        "fig, ax = plt.subplots(figsize=(10,10))\n",
        "map = sns.heatmap(pca_results['loadings'], annot=True, fmt='.5g', cmap=\"coolwarm\", vmin=-1, vmax=1, center= 0, square=True)"
      ],
      "execution_count": 101,
      "outputs": [
        {
          "output_type": "display_data",
          "data": {
            "image/png": "[encoded data removed]",
            "text/plain": [
              "<Figure size 720x720 with 2 Axes>"
            ]
          },
          "metadata": {
            "needs_background": "light"
          }
        }
      ]
    },
    {
      "cell_type": "code",
      "metadata": {
        "id": "1sHmOBQKaUQw"
      },
      "source": [
        ""
      ],
      "execution_count": null,
      "outputs": []
    }
  ]
}