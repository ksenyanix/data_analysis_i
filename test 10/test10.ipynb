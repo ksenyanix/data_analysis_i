{
 "cells": [
  {
   "cell_type": "code",
   "execution_count": 1,
   "metadata": {},
   "outputs": [],
   "source": [
    "import pandas as pd \n",
    "import numpy as np\n",
    "import matplotlib.pyplot as plt\n",
    "import seaborn as sns"
   ]
  },
  {
   "cell_type": "code",
   "execution_count": 2,
   "metadata": {},
   "outputs": [
    {
     "data": {
      "text/html": [
       "<div>\n",
       "<style scoped>\n",
       "    .dataframe tbody tr th:only-of-type {\n",
       "        vertical-align: middle;\n",
       "    }\n",
       "\n",
       "    .dataframe tbody tr th {\n",
       "        vertical-align: top;\n",
       "    }\n",
       "\n",
       "    .dataframe thead th {\n",
       "        text-align: right;\n",
       "    }\n",
       "</style>\n",
       "<table border=\"1\" class=\"dataframe\">\n",
       "  <thead>\n",
       "    <tr style=\"text-align: right;\">\n",
       "      <th></th>\n",
       "      <th>duration</th>\n",
       "      <th>page</th>\n",
       "    </tr>\n",
       "  </thead>\n",
       "  <tbody>\n",
       "    <tr>\n",
       "      <th>0</th>\n",
       "      <td>9.1</td>\n",
       "      <td>target</td>\n",
       "    </tr>\n",
       "    <tr>\n",
       "      <th>1</th>\n",
       "      <td>9.7</td>\n",
       "      <td>standard</td>\n",
       "    </tr>\n",
       "    <tr>\n",
       "      <th>2</th>\n",
       "      <td>10.0</td>\n",
       "      <td>target</td>\n",
       "    </tr>\n",
       "    <tr>\n",
       "      <th>3</th>\n",
       "      <td>10.3</td>\n",
       "      <td>standard</td>\n",
       "    </tr>\n",
       "    <tr>\n",
       "      <th>4</th>\n",
       "      <td>11.1</td>\n",
       "      <td>standard</td>\n",
       "    </tr>\n",
       "  </tbody>\n",
       "</table>\n",
       "</div>"
      ],
      "text/plain": [
       "   duration      page\n",
       "0       9.1    target\n",
       "1       9.7  standard\n",
       "2      10.0    target\n",
       "3      10.3  standard\n",
       "4      11.1  standard"
      ]
     },
     "execution_count": 2,
     "metadata": {},
     "output_type": "execute_result"
    }
   ],
   "source": [
    "df = pd.read_csv(\"website.csv\")\n",
    "df.head()"
   ]
  },
  {
   "cell_type": "code",
   "execution_count": 3,
   "metadata": {},
   "outputs": [
    {
     "data": {
      "text/plain": [
       "<AxesSubplot:xlabel='page', ylabel='duration'>"
      ]
     },
     "execution_count": 3,
     "metadata": {},
     "output_type": "execute_result"
    },
    {
     "data": {
      "image/png": "[encoded data removed]",
      "text/plain": [
       "<Figure size 842.4x595.44 with 1 Axes>"
      ]
     },
     "metadata": {},
     "output_type": "display_data"
    }
   ],
   "source": [
    "sns.set(rc={'figure.figsize':(11.7,8.27)})\n",
    "sns.boxplot(x = \"page\", y = \"duration\", data = df)"
   ]
  },
  {
   "cell_type": "code",
   "execution_count": 4,
   "metadata": {},
   "outputs": [
    {
     "name": "stdout",
     "output_type": "stream",
     "text": [
      "             n       mean  median        sd   iqr  min   max\n",
      "page                                                        \n",
      "standard  29.0  16.248276    16.9  3.640999  4.60  9.7  24.4\n",
      "target    27.0  17.418519    18.3  3.949005  5.35  9.1  24.3\n"
     ]
    }
   ],
   "source": [
    "from scipy.stats import iqr\n",
    "tab = df.groupby(\"page\")[\"duration\"].agg(n=len, \n",
    "                                               mean=np.mean, \n",
    "                                               median=np.median,\n",
    "                                               sd=np.std,\n",
    "                                               iqr=iqr,\n",
    "                                               min=min,\n",
    "                                               max=max)\n",
    "print(tab)"
   ]
  },
  {
   "cell_type": "code",
   "execution_count": 5,
   "metadata": {},
   "outputs": [],
   "source": [
    "def t_stat(y, x):\n",
    "    data = pd.DataFrame({\"y\": y, \"x\": x})\n",
    "    group_data = data.groupby(\"x\")[\"y\"]\n",
    "    # observed n, mean, sd\n",
    "    n = group_data.size().to_numpy()\n",
    "    m = group_data.median().to_numpy()\n",
    "    s = group_data.std().to_numpy()\n",
    "    \n",
    "    # pooled variance and t-statistic\n",
    "    pvar = (n[0] + n[1]) / (n[0] * n[1]) * \\\n",
    "    ((n[0] - 1) * s[0]**2 + (n[1] - 1) * s[1]**2) / (n[0] + n[1] - 1)\n",
    "    tstat = (m[0] - m[1]) / np.sqrt(pvar)\n",
    "    \n",
    "    return tstat"
   ]
  },
  {
   "cell_type": "code",
   "execution_count": 6,
   "metadata": {},
   "outputs": [],
   "source": [
    "def t_test(y, x, nperm = 100000):\n",
    "    # observed statistic\n",
    "    stat = t_stat(y, x)\n",
    "    ## statistic for permutations\n",
    "    perm = np.zeros(nperm)\n",
    "    for i in range(1, nperm): \n",
    "        perm[i] = t_stat(np.random.permutation(y), x)\n",
    "        \n",
    "    # return everything in a dictionary\n",
    "    tperm = {\"statistic\":[], \"pvalue\":[], \"method\":[], \"permutations\":[]}\n",
    "    tperm[\"statistic\"].append(stat)\n",
    "    tperm[\"pvalue\"].append(np.mean(np.abs(perm) >= np.abs(stat)))\n",
    "    tperm[\"method\"].append(\"Permutation t-test\")\n",
    "    tperm[\"permutations\"].append(perm)\n",
    "    \n",
    "    return tperm"
   ]
  },
  {
   "cell_type": "code",
   "execution_count": 7,
   "metadata": {},
   "outputs": [
    {
     "name": "stdout",
     "output_type": "stream",
     "text": [
      "{'statistic': [-1.393101284526614], 'pvalue': [0.29742], 'method': ['Permutation t-test'], 'permutations': [array([ 0.        , -1.37844311, -1.2913467 , ..., -0.2958791 ,\n",
      "       -0.59167905, -0.2950937 ])]}\n"
     ]
    }
   ],
   "source": [
    "tperm_m = t_test(y=df[\"duration\"], x=df[\"page\"])\n",
    "print(tperm_m)"
   ]
  },
  {
   "cell_type": "code",
   "execution_count": 8,
   "metadata": {},
   "outputs": [],
   "source": [
    "from scipy import (              \n",
    "    misc, stats, ndimage)"
   ]
  },
  {
   "cell_type": "code",
   "execution_count": 9,
   "metadata": {},
   "outputs": [
    {
     "name": "stdout",
     "output_type": "stream",
     "text": [
      "Нулевая гипотеза: x=y\n",
      "Альтернативная гипотеза: !(x=y)\n",
      "9.0\n",
      "102.39999999999998\n",
      "49.599999999999994\n",
      "1\n",
      "8\n",
      "p=0.0036133227060699963 , Итог: отклоняем нулевую гипотезу\n"
     ]
    },
    {
     "data": {
      "image/png": "[encoded data removed]",
      "text/plain": [
       "<Figure size 842.4x595.44 with 1 Axes>"
      ]
     },
     "metadata": {},
     "output_type": "display_data"
    }
   ],
   "source": [
    "data = pd.DataFrame({\n",
    "           'x': [3, 6, 7, 9, 4],\n",
    "           'y': [9, 12, 13, 16, 11],\n",
    "          })\n",
    "data.boxplot()\n",
    "\n",
    "print('Нулевая гипотеза:', '='.join(data))\n",
    "print('Альтернативная гипотеза:', f'!({\"=\".join(data)})')\n",
    "\n",
    "# общая средняя\n",
    "grand_mean = data.values.flatten().mean()\n",
    "print(grand_mean)\n",
    "# отклонение групповых средний от общей средней\n",
    "ssb = sum(data[group].size * (group_mean - grand_mean)**2  for group, group_mean in data.mean().items())\n",
    "print(ssb)\n",
    "# отклонения значений в внутри группы от средней группы\n",
    "ssw = sum(sum((x - group_mean)**2 for x in data[group]) for group, group_mean in data.mean().items())\n",
    "print(ssw)\n",
    "groups = data.shape[1]\n",
    "dfb = groups - 1\n",
    "print(dfb)\n",
    "dfw = data.size - groups\n",
    "print(dfw)\n",
    "# межгрупповой средний квадрат  \n",
    "mssb = ssb/dfb\n",
    "# внутригрупповой средний квадрат\n",
    "mssw = ssw/dfw\n",
    "\n",
    "f_value = mssb/mssw\n",
    "\n",
    "p = stats.f.sf(f_value, dfb, dfw)\\\n",
    "\n",
    "print(\"p={} , Итог: {}\".format(\n",
    "    p,\n",
    "    \"отклоняем нулевую гипотезу\" if p < 0.05 else \"НЕ отклоняем нулевую гипотезу\"\n",
    "))"
   ]
  },
  {
   "cell_type": "code",
   "execution_count": null,
   "metadata": {},
   "outputs": [],
   "source": []
  },
  {
   "cell_type": "code",
   "execution_count": null,
   "metadata": {},
   "outputs": [],
   "source": []
  }
 ],
 "metadata": {
  "interpreter": {
   "hash": "67645e4edde45144644326d4815cd26b14c8093db79836f9b69d4c3e18d9122c"
  },
  "kernelspec": {
   "display_name": "Python 3.8.10 64-bit (windows store)",
   "language": "python",
   "name": "python3"
  },
  "language_info": {
   "codemirror_mode": {
    "name": "ipython",
    "version": 3
   },
   "file_extension": ".py",
   "mimetype": "text/x-python",
   "name": "python",
   "nbconvert_exporter": "python",
   "pygments_lexer": "ipython3",
   "version": "3.8.10"
  },
  "orig_nbformat": 4
 },
 "nbformat": 4,
 "nbformat_minor": 2
}
