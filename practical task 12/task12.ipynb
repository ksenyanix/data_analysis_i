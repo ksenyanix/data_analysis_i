{
 "cells": [
  {
   "cell_type": "code",
   "execution_count": 1,
   "metadata": {},
   "outputs": [],
   "source": [
    "import pandas as pd \n",
    "import numpy as np\n",
    "import matplotlib.pyplot as plt\n",
    "import statsmodels.api as sm\n",
    "import statsmodels.formula.api as smf"
   ]
  },
  {
   "cell_type": "code",
   "execution_count": 2,
   "metadata": {},
   "outputs": [
    {
     "data": {
      "text/html": [
       "<div>\n",
       "<style scoped>\n",
       "    .dataframe tbody tr th:only-of-type {\n",
       "        vertical-align: middle;\n",
       "    }\n",
       "\n",
       "    .dataframe tbody tr th {\n",
       "        vertical-align: top;\n",
       "    }\n",
       "\n",
       "    .dataframe thead th {\n",
       "        text-align: right;\n",
       "    }\n",
       "</style>\n",
       "<table border=\"1\" class=\"dataframe\">\n",
       "  <thead>\n",
       "    <tr style=\"text-align: right;\">\n",
       "      <th></th>\n",
       "      <th>weight</th>\n",
       "      <th>light</th>\n",
       "      <th>watering</th>\n",
       "      <th>medium</th>\n",
       "    </tr>\n",
       "  </thead>\n",
       "  <tbody>\n",
       "    <tr>\n",
       "      <th>0</th>\n",
       "      <td>2.02</td>\n",
       "      <td>normal</td>\n",
       "      <td>1</td>\n",
       "      <td>soil</td>\n",
       "    </tr>\n",
       "    <tr>\n",
       "      <th>1</th>\n",
       "      <td>0.30</td>\n",
       "      <td>normal</td>\n",
       "      <td>1</td>\n",
       "      <td>cottonwool</td>\n",
       "    </tr>\n",
       "    <tr>\n",
       "      <th>2</th>\n",
       "      <td>0.27</td>\n",
       "      <td>normal</td>\n",
       "      <td>1</td>\n",
       "      <td>newspaper</td>\n",
       "    </tr>\n",
       "    <tr>\n",
       "      <th>3</th>\n",
       "      <td>0.09</td>\n",
       "      <td>normal</td>\n",
       "      <td>1</td>\n",
       "      <td>sawdust</td>\n",
       "    </tr>\n",
       "    <tr>\n",
       "      <th>4</th>\n",
       "      <td>2.04</td>\n",
       "      <td>normal</td>\n",
       "      <td>1</td>\n",
       "      <td>soil</td>\n",
       "    </tr>\n",
       "  </tbody>\n",
       "</table>\n",
       "</div>"
      ],
      "text/plain": [
       "   weight   light  watering      medium\n",
       "0    2.02  normal         1        soil\n",
       "1    0.30  normal         1  cottonwool\n",
       "2    0.27  normal         1   newspaper\n",
       "3    0.09  normal         1     sawdust\n",
       "4    2.04  normal         1        soil"
      ]
     },
     "execution_count": 2,
     "metadata": {},
     "output_type": "execute_result"
    }
   ],
   "source": [
    "df = pd.read_csv(\"Mustard.csv\")\n",
    "df.head()"
   ]
  },
  {
   "cell_type": "code",
   "execution_count": 3,
   "metadata": {},
   "outputs": [],
   "source": [
    "df.dropna(subset = [\"weight\"], inplace=True)\n",
    "df.dropna(subset = [\"light\"], inplace=True)\n",
    "df.dropna(subset = [\"watering\"], inplace=True)\n",
    "df.dropna(subset = [\"medium\"], inplace=True)"
   ]
  },
  {
   "cell_type": "markdown",
   "metadata": {},
   "source": [
    "### For all three models describe complexity and goodness of fit by listing the degrees of freedom and residual sum of squares, respectively."
   ]
  },
  {
   "cell_type": "markdown",
   "metadata": {},
   "source": [
    "> The residual sum of squares (RSS) measures the level of variance in the error term, or residuals, of a regression model. The smaller the residual sum of squares, the better your model fits your data; the greater the residual sum of squares, the poorer your model fits your data."
   ]
  },
  {
   "cell_type": "markdown",
   "metadata": {},
   "source": [
    "> The degrees of freedom are an accounting of how many parameters are estimated by the model and, by extension, a measure of complexity for linear regression models. For example, the complexity of a linear regression model with two parameters is equal to the degrees of freedom, which in this case is 2. We often prefer lower complexity models over higher complexity models. Simpler models generalize better."
   ]
  },
  {
   "cell_type": "code",
   "execution_count": 4,
   "metadata": {},
   "outputs": [
    {
     "data": {
      "text/html": [
       "<div>\n",
       "<style scoped>\n",
       "    .dataframe tbody tr th:only-of-type {\n",
       "        vertical-align: middle;\n",
       "    }\n",
       "\n",
       "    .dataframe tbody tr th {\n",
       "        vertical-align: top;\n",
       "    }\n",
       "\n",
       "    .dataframe thead th {\n",
       "        text-align: right;\n",
       "    }\n",
       "</style>\n",
       "<table border=\"1\" class=\"dataframe\">\n",
       "  <thead>\n",
       "    <tr style=\"text-align: right;\">\n",
       "      <th></th>\n",
       "      <th>df</th>\n",
       "      <th>sum_sq</th>\n",
       "      <th>mean_sq</th>\n",
       "      <th>F</th>\n",
       "      <th>PR(&gt;F)</th>\n",
       "    </tr>\n",
       "  </thead>\n",
       "  <tbody>\n",
       "    <tr>\n",
       "      <th>light</th>\n",
       "      <td>2.0</td>\n",
       "      <td>7.755972</td>\n",
       "      <td>3.877986</td>\n",
       "      <td>15.173072</td>\n",
       "      <td>1.816851e-06</td>\n",
       "    </tr>\n",
       "    <tr>\n",
       "      <th>medium</th>\n",
       "      <td>3.0</td>\n",
       "      <td>85.111348</td>\n",
       "      <td>28.370449</td>\n",
       "      <td>111.002693</td>\n",
       "      <td>2.120333e-31</td>\n",
       "    </tr>\n",
       "    <tr>\n",
       "      <th>watering</th>\n",
       "      <td>1.0</td>\n",
       "      <td>37.498517</td>\n",
       "      <td>37.498517</td>\n",
       "      <td>146.717325</td>\n",
       "      <td>3.459094e-21</td>\n",
       "    </tr>\n",
       "    <tr>\n",
       "      <th>Residual</th>\n",
       "      <td>98.0</td>\n",
       "      <td>25.047176</td>\n",
       "      <td>0.255583</td>\n",
       "      <td>NaN</td>\n",
       "      <td>NaN</td>\n",
       "    </tr>\n",
       "  </tbody>\n",
       "</table>\n",
       "</div>"
      ],
      "text/plain": [
       "            df     sum_sq    mean_sq           F        PR(>F)\n",
       "light      2.0   7.755972   3.877986   15.173072  1.816851e-06\n",
       "medium     3.0  85.111348  28.370449  111.002693  2.120333e-31\n",
       "watering   1.0  37.498517  37.498517  146.717325  3.459094e-21\n",
       "Residual  98.0  25.047176   0.255583         NaN           NaN"
      ]
     },
     "execution_count": 4,
     "metadata": {},
     "output_type": "execute_result"
    }
   ],
   "source": [
    "m_one = smf.ols(\"weight ~ light + medium + watering\", data=df).fit()\n",
    "sm.stats.anova_lm(m_one)"
   ]
  },
  {
   "cell_type": "code",
   "execution_count": 5,
   "metadata": {},
   "outputs": [],
   "source": [
    "# df = 6, rss = 25"
   ]
  },
  {
   "cell_type": "code",
   "execution_count": 6,
   "metadata": {},
   "outputs": [
    {
     "data": {
      "text/html": [
       "<div>\n",
       "<style scoped>\n",
       "    .dataframe tbody tr th:only-of-type {\n",
       "        vertical-align: middle;\n",
       "    }\n",
       "\n",
       "    .dataframe tbody tr th {\n",
       "        vertical-align: top;\n",
       "    }\n",
       "\n",
       "    .dataframe thead th {\n",
       "        text-align: right;\n",
       "    }\n",
       "</style>\n",
       "<table border=\"1\" class=\"dataframe\">\n",
       "  <thead>\n",
       "    <tr style=\"text-align: right;\">\n",
       "      <th></th>\n",
       "      <th>df</th>\n",
       "      <th>sum_sq</th>\n",
       "      <th>mean_sq</th>\n",
       "      <th>F</th>\n",
       "      <th>PR(&gt;F)</th>\n",
       "    </tr>\n",
       "  </thead>\n",
       "  <tbody>\n",
       "    <tr>\n",
       "      <th>medium</th>\n",
       "      <td>3.0</td>\n",
       "      <td>85.483215</td>\n",
       "      <td>28.494405</td>\n",
       "      <td>114.397567</td>\n",
       "      <td>4.288742e-30</td>\n",
       "    </tr>\n",
       "    <tr>\n",
       "      <th>light</th>\n",
       "      <td>2.0</td>\n",
       "      <td>7.384104</td>\n",
       "      <td>3.692052</td>\n",
       "      <td>14.822621</td>\n",
       "      <td>2.886501e-06</td>\n",
       "    </tr>\n",
       "    <tr>\n",
       "      <th>medium:light</th>\n",
       "      <td>6.0</td>\n",
       "      <td>1.504919</td>\n",
       "      <td>0.250820</td>\n",
       "      <td>1.006976</td>\n",
       "      <td>4.261291e-01</td>\n",
       "    </tr>\n",
       "    <tr>\n",
       "      <th>watering</th>\n",
       "      <td>1.0</td>\n",
       "      <td>37.623429</td>\n",
       "      <td>37.623429</td>\n",
       "      <td>151.048203</td>\n",
       "      <td>1.025897e-20</td>\n",
       "    </tr>\n",
       "    <tr>\n",
       "      <th>medium:watering</th>\n",
       "      <td>3.0</td>\n",
       "      <td>0.891745</td>\n",
       "      <td>0.297248</td>\n",
       "      <td>1.193374</td>\n",
       "      <td>3.170948e-01</td>\n",
       "    </tr>\n",
       "    <tr>\n",
       "      <th>watering:light</th>\n",
       "      <td>2.0</td>\n",
       "      <td>0.855444</td>\n",
       "      <td>0.427722</td>\n",
       "      <td>1.717192</td>\n",
       "      <td>1.855994e-01</td>\n",
       "    </tr>\n",
       "    <tr>\n",
       "      <th>Residual</th>\n",
       "      <td>87.0</td>\n",
       "      <td>21.670157</td>\n",
       "      <td>0.249082</td>\n",
       "      <td>NaN</td>\n",
       "      <td>NaN</td>\n",
       "    </tr>\n",
       "  </tbody>\n",
       "</table>\n",
       "</div>"
      ],
      "text/plain": [
       "                   df     sum_sq    mean_sq           F        PR(>F)\n",
       "medium            3.0  85.483215  28.494405  114.397567  4.288742e-30\n",
       "light             2.0   7.384104   3.692052   14.822621  2.886501e-06\n",
       "medium:light      6.0   1.504919   0.250820    1.006976  4.261291e-01\n",
       "watering          1.0  37.623429  37.623429  151.048203  1.025897e-20\n",
       "medium:watering   3.0   0.891745   0.297248    1.193374  3.170948e-01\n",
       "watering:light    2.0   0.855444   0.427722    1.717192  1.855994e-01\n",
       "Residual         87.0  21.670157   0.249082         NaN           NaN"
      ]
     },
     "execution_count": 6,
     "metadata": {},
     "output_type": "execute_result"
    }
   ],
   "source": [
    "m_two = smf.ols(\"weight ~ (medium*watering) + (medium*light) + (watering*light)\", data=df).fit()\n",
    "sm.stats.anova_lm(m_two)"
   ]
  },
  {
   "cell_type": "code",
   "execution_count": 7,
   "metadata": {},
   "outputs": [],
   "source": [
    "# df = 17 , rss = 22"
   ]
  },
  {
   "cell_type": "code",
   "execution_count": 8,
   "metadata": {},
   "outputs": [
    {
     "data": {
      "text/html": [
       "<div>\n",
       "<style scoped>\n",
       "    .dataframe tbody tr th:only-of-type {\n",
       "        vertical-align: middle;\n",
       "    }\n",
       "\n",
       "    .dataframe tbody tr th {\n",
       "        vertical-align: top;\n",
       "    }\n",
       "\n",
       "    .dataframe thead th {\n",
       "        text-align: right;\n",
       "    }\n",
       "</style>\n",
       "<table border=\"1\" class=\"dataframe\">\n",
       "  <thead>\n",
       "    <tr style=\"text-align: right;\">\n",
       "      <th></th>\n",
       "      <th>df</th>\n",
       "      <th>sum_sq</th>\n",
       "      <th>mean_sq</th>\n",
       "      <th>F</th>\n",
       "      <th>PR(&gt;F)</th>\n",
       "    </tr>\n",
       "  </thead>\n",
       "  <tbody>\n",
       "    <tr>\n",
       "      <th>light</th>\n",
       "      <td>2.0</td>\n",
       "      <td>7.755972</td>\n",
       "      <td>3.877986</td>\n",
       "      <td>15.190783</td>\n",
       "      <td>2.498641e-06</td>\n",
       "    </tr>\n",
       "    <tr>\n",
       "      <th>medium</th>\n",
       "      <td>3.0</td>\n",
       "      <td>85.111348</td>\n",
       "      <td>28.370449</td>\n",
       "      <td>111.132260</td>\n",
       "      <td>1.266163e-28</td>\n",
       "    </tr>\n",
       "    <tr>\n",
       "      <th>light:medium</th>\n",
       "      <td>6.0</td>\n",
       "      <td>1.504919</td>\n",
       "      <td>0.250820</td>\n",
       "      <td>0.982507</td>\n",
       "      <td>4.426215e-01</td>\n",
       "    </tr>\n",
       "    <tr>\n",
       "      <th>watering</th>\n",
       "      <td>1.0</td>\n",
       "      <td>37.623429</td>\n",
       "      <td>37.623429</td>\n",
       "      <td>147.377880</td>\n",
       "      <td>6.409024e-20</td>\n",
       "    </tr>\n",
       "    <tr>\n",
       "      <th>light:watering</th>\n",
       "      <td>2.0</td>\n",
       "      <td>0.870632</td>\n",
       "      <td>0.435316</td>\n",
       "      <td>1.705212</td>\n",
       "      <td>1.881923e-01</td>\n",
       "    </tr>\n",
       "    <tr>\n",
       "      <th>medium:watering</th>\n",
       "      <td>3.0</td>\n",
       "      <td>0.876557</td>\n",
       "      <td>0.292186</td>\n",
       "      <td>1.144545</td>\n",
       "      <td>3.361981e-01</td>\n",
       "    </tr>\n",
       "    <tr>\n",
       "      <th>light:medium:watering</th>\n",
       "      <td>6.0</td>\n",
       "      <td>0.992036</td>\n",
       "      <td>0.165339</td>\n",
       "      <td>0.647664</td>\n",
       "      <td>6.917963e-01</td>\n",
       "    </tr>\n",
       "    <tr>\n",
       "      <th>Residual</th>\n",
       "      <td>81.0</td>\n",
       "      <td>20.678122</td>\n",
       "      <td>0.255285</td>\n",
       "      <td>NaN</td>\n",
       "      <td>NaN</td>\n",
       "    </tr>\n",
       "  </tbody>\n",
       "</table>\n",
       "</div>"
      ],
      "text/plain": [
       "                         df     sum_sq    mean_sq           F        PR(>F)\n",
       "light                   2.0   7.755972   3.877986   15.190783  2.498641e-06\n",
       "medium                  3.0  85.111348  28.370449  111.132260  1.266163e-28\n",
       "light:medium            6.0   1.504919   0.250820    0.982507  4.426215e-01\n",
       "watering                1.0  37.623429  37.623429  147.377880  6.409024e-20\n",
       "light:watering          2.0   0.870632   0.435316    1.705212  1.881923e-01\n",
       "medium:watering         3.0   0.876557   0.292186    1.144545  3.361981e-01\n",
       "light:medium:watering   6.0   0.992036   0.165339    0.647664  6.917963e-01\n",
       "Residual               81.0  20.678122   0.255285         NaN           NaN"
      ]
     },
     "execution_count": 8,
     "metadata": {},
     "output_type": "execute_result"
    }
   ],
   "source": [
    "m_three = smf.ols(\"weight ~ light * medium * watering\", data=df).fit()\n",
    "sm.stats.anova_lm(m_three)"
   ]
  },
  {
   "cell_type": "code",
   "execution_count": 9,
   "metadata": {},
   "outputs": [],
   "source": [
    "# df = 23, rss = 21"
   ]
  },
  {
   "cell_type": "code",
   "execution_count": 10,
   "metadata": {},
   "outputs": [
    {
     "data": {
      "text/html": [
       "<div>\n",
       "<style scoped>\n",
       "    .dataframe tbody tr th:only-of-type {\n",
       "        vertical-align: middle;\n",
       "    }\n",
       "\n",
       "    .dataframe tbody tr th {\n",
       "        vertical-align: top;\n",
       "    }\n",
       "\n",
       "    .dataframe thead th {\n",
       "        text-align: right;\n",
       "    }\n",
       "</style>\n",
       "<table border=\"1\" class=\"dataframe\">\n",
       "  <thead>\n",
       "    <tr style=\"text-align: right;\">\n",
       "      <th></th>\n",
       "      <th>df_resid</th>\n",
       "      <th>ssr</th>\n",
       "      <th>df_diff</th>\n",
       "      <th>ss_diff</th>\n",
       "      <th>F</th>\n",
       "      <th>Pr(&gt;F)</th>\n",
       "    </tr>\n",
       "  </thead>\n",
       "  <tbody>\n",
       "    <tr>\n",
       "      <th>0</th>\n",
       "      <td>98.0</td>\n",
       "      <td>25.047176</td>\n",
       "      <td>0.0</td>\n",
       "      <td>NaN</td>\n",
       "      <td>NaN</td>\n",
       "      <td>NaN</td>\n",
       "    </tr>\n",
       "    <tr>\n",
       "      <th>1</th>\n",
       "      <td>87.0</td>\n",
       "      <td>21.670157</td>\n",
       "      <td>11.0</td>\n",
       "      <td>3.377019</td>\n",
       "      <td>1.202582</td>\n",
       "      <td>0.297518</td>\n",
       "    </tr>\n",
       "    <tr>\n",
       "      <th>2</th>\n",
       "      <td>81.0</td>\n",
       "      <td>20.678122</td>\n",
       "      <td>6.0</td>\n",
       "      <td>0.992036</td>\n",
       "      <td>0.647664</td>\n",
       "      <td>0.691796</td>\n",
       "    </tr>\n",
       "  </tbody>\n",
       "</table>\n",
       "</div>"
      ],
      "text/plain": [
       "   df_resid        ssr  df_diff   ss_diff         F    Pr(>F)\n",
       "0      98.0  25.047176      0.0       NaN       NaN       NaN\n",
       "1      87.0  21.670157     11.0  3.377019  1.202582  0.297518\n",
       "2      81.0  20.678122      6.0  0.992036  0.647664  0.691796"
      ]
     },
     "execution_count": 10,
     "metadata": {},
     "output_type": "execute_result"
    }
   ],
   "source": [
    "sm.stats.anova_lm(m_one, m_two, m_three)"
   ]
  },
  {
   "cell_type": "markdown",
   "metadata": {},
   "source": [
    "> Best fit is model with 3-way interaction, but it is also the most complex model. \\\n",
    "Model with 2-way interaction has less DF which makes it less complex, and RSS almost same as third model \\\n",
    "First model has only 6 degrees of freedom which makes it the simpliest of all three. Difference between rss1 and (rss2, rss3) is not big, that makes first model the most optimal one"
   ]
  },
  {
   "cell_type": "markdown",
   "metadata": {},
   "source": [
    "### Carry out an ANOVA to compare Models 1 and 2. Which of these two models is preferable based on the test decision of the ANOVA?"
   ]
  },
  {
   "cell_type": "code",
   "execution_count": 11,
   "metadata": {},
   "outputs": [
    {
     "data": {
      "text/html": [
       "<div>\n",
       "<style scoped>\n",
       "    .dataframe tbody tr th:only-of-type {\n",
       "        vertical-align: middle;\n",
       "    }\n",
       "\n",
       "    .dataframe tbody tr th {\n",
       "        vertical-align: top;\n",
       "    }\n",
       "\n",
       "    .dataframe thead th {\n",
       "        text-align: right;\n",
       "    }\n",
       "</style>\n",
       "<table border=\"1\" class=\"dataframe\">\n",
       "  <thead>\n",
       "    <tr style=\"text-align: right;\">\n",
       "      <th></th>\n",
       "      <th>df_resid</th>\n",
       "      <th>ssr</th>\n",
       "      <th>df_diff</th>\n",
       "      <th>ss_diff</th>\n",
       "      <th>F</th>\n",
       "      <th>Pr(&gt;F)</th>\n",
       "    </tr>\n",
       "  </thead>\n",
       "  <tbody>\n",
       "    <tr>\n",
       "      <th>0</th>\n",
       "      <td>98.0</td>\n",
       "      <td>25.047176</td>\n",
       "      <td>0.0</td>\n",
       "      <td>NaN</td>\n",
       "      <td>NaN</td>\n",
       "      <td>NaN</td>\n",
       "    </tr>\n",
       "    <tr>\n",
       "      <th>1</th>\n",
       "      <td>87.0</td>\n",
       "      <td>21.670157</td>\n",
       "      <td>11.0</td>\n",
       "      <td>3.377019</td>\n",
       "      <td>1.232532</td>\n",
       "      <td>0.278187</td>\n",
       "    </tr>\n",
       "  </tbody>\n",
       "</table>\n",
       "</div>"
      ],
      "text/plain": [
       "   df_resid        ssr  df_diff   ss_diff         F    Pr(>F)\n",
       "0      98.0  25.047176      0.0       NaN       NaN       NaN\n",
       "1      87.0  21.670157     11.0  3.377019  1.232532  0.278187"
      ]
     },
     "execution_count": 11,
     "metadata": {},
     "output_type": "execute_result"
    }
   ],
   "source": [
    "sm.stats.anova_lm(m_one, m_two)"
   ]
  },
  {
   "cell_type": "markdown",
   "metadata": {},
   "source": [
    "> As we can see model 2 is preferable based on test-decision \\\n",
    "Critical F-value:\t1.41407399. We can't reject H0\n"
   ]
  },
  {
   "cell_type": "markdown",
   "metadata": {},
   "source": [
    "### Analogously, carry out an ANOVA to compare Models 2 and 3 and describe the test decision."
   ]
  },
  {
   "cell_type": "code",
   "execution_count": 12,
   "metadata": {},
   "outputs": [
    {
     "data": {
      "text/html": [
       "<div>\n",
       "<style scoped>\n",
       "    .dataframe tbody tr th:only-of-type {\n",
       "        vertical-align: middle;\n",
       "    }\n",
       "\n",
       "    .dataframe tbody tr th {\n",
       "        vertical-align: top;\n",
       "    }\n",
       "\n",
       "    .dataframe thead th {\n",
       "        text-align: right;\n",
       "    }\n",
       "</style>\n",
       "<table border=\"1\" class=\"dataframe\">\n",
       "  <thead>\n",
       "    <tr style=\"text-align: right;\">\n",
       "      <th></th>\n",
       "      <th>df_resid</th>\n",
       "      <th>ssr</th>\n",
       "      <th>df_diff</th>\n",
       "      <th>ss_diff</th>\n",
       "      <th>F</th>\n",
       "      <th>Pr(&gt;F)</th>\n",
       "    </tr>\n",
       "  </thead>\n",
       "  <tbody>\n",
       "    <tr>\n",
       "      <th>0</th>\n",
       "      <td>87.0</td>\n",
       "      <td>21.670157</td>\n",
       "      <td>0.0</td>\n",
       "      <td>NaN</td>\n",
       "      <td>NaN</td>\n",
       "      <td>NaN</td>\n",
       "    </tr>\n",
       "    <tr>\n",
       "      <th>1</th>\n",
       "      <td>81.0</td>\n",
       "      <td>20.678122</td>\n",
       "      <td>6.0</td>\n",
       "      <td>0.992036</td>\n",
       "      <td>0.647664</td>\n",
       "      <td>0.691796</td>\n",
       "    </tr>\n",
       "  </tbody>\n",
       "</table>\n",
       "</div>"
      ],
      "text/plain": [
       "   df_resid        ssr  df_diff   ss_diff         F    Pr(>F)\n",
       "0      87.0  21.670157      0.0       NaN       NaN       NaN\n",
       "1      81.0  20.678122      6.0  0.992036  0.647664  0.691796"
      ]
     },
     "execution_count": 12,
     "metadata": {},
     "output_type": "execute_result"
    }
   ],
   "source": [
    "sm.stats.anova_lm(m_two, m_three)"
   ]
  },
  {
   "cell_type": "markdown",
   "metadata": {},
   "source": [
    "> As we can see model 3 is preferable \\\n",
    "Critical F-value:\t1.43700385.\n",
    "We can't reject H0"
   ]
  },
  {
   "cell_type": "markdown",
   "metadata": {},
   "source": [
    "### Overall, which of the three models would be selected in an ANOVA-based forward selection or backward selection?"
   ]
  },
  {
   "cell_type": "markdown",
   "metadata": {},
   "source": [
    "> The third model (as the most complex) would be selected in an ANOVA-based backward selection"
   ]
  },
  {
   "cell_type": "markdown",
   "metadata": {},
   "source": [
    "> The first model (as the most simple) would be selected in an ANOVA-based forward selection"
   ]
  },
  {
   "cell_type": "code",
   "execution_count": 15,
   "metadata": {},
   "outputs": [
    {
     "name": "stdout",
     "output_type": "stream",
     "text": [
      "Step:  aic= 175.36425763675854\n",
      "(' - light:medium:watering', 168.28454204622983)\n",
      "(' - light:medium', 169.32966041271263)\n",
      "(' - medium:watering', 175.3642576367585)\n",
      "('', 175.36425763675854)\n",
      "(' - light:watering', 175.36425763675854)\n",
      "Step:  aic= 168.28454204622983\n",
      "(' - light:medium', 163.90166328580037)\n",
      "(' - medium:watering', 166.44813785924717)\n",
      "('', 168.28454204622983)\n",
      "(' - light:watering', 168.3497665460794)\n",
      "(' + light:medium:watering', 175.36425763675854)\n",
      "Step:  aic= 163.90166328580037\n",
      "(' - medium:watering', 161.85963392947122)\n",
      "(' - light:watering', 163.60679726952714)\n",
      "('', 163.90166328580037)\n",
      "(' + light:medium', 168.28454204622983)\n",
      "(' + light:medium:watering', 169.32966041271263)\n",
      "Step:  aic= 161.85963392947122\n",
      "(' - light:watering', 161.49117043622041)\n",
      "('', 161.85963392947122)\n",
      "(' + medium:watering', 163.90166328580037)\n",
      "(' + light:medium', 166.44813785924717)\n",
      "(' + light:medium:watering', 169.3296604127126)\n",
      "(' - medium', 313.3456188087899)\n",
      "Step:  aic= 161.49117043622041\n",
      "('', 161.49117043622041)\n",
      "(' + light:watering', 161.85963392947122)\n",
      "(' + medium:watering', 163.60679726952714)\n",
      "(' + light:medium', 166.42634426870495)\n",
      "(' + light:medium:watering', 169.32966041271263)\n",
      "(' - light', 183.1469352725096)\n",
      "(' - watering', 255.58048091580582)\n",
      "(' - medium', 310.25943840494745)\n",
      "Result: aic= 161.49117043622041\n",
      "weight ~ light + medium + watering\n"
     ]
    }
   ],
   "source": [
    "from stepwise_selection import stepwise_selection\n",
    "m_twoo = smf.ols(\"weight ~ light * medium * watering\", data=df)\n",
    "m_2 = stepwise_selection(m_twoo, scope={\"lower\": \"weight ~ 1\",\n",
    "                                        \"upper\": \"weight ~ (light * medium * watering)**2\" })"
   ]
  },
  {
   "cell_type": "markdown",
   "metadata": {},
   "source": [
    "> According to stepwise selection the best model is first one (weight ~ light + medium + watering)"
   ]
  },
  {
   "cell_type": "markdown",
   "metadata": {},
   "source": []
  }
 ],
 "metadata": {
  "interpreter": {
   "hash": "67645e4edde45144644326d4815cd26b14c8093db79836f9b69d4c3e18d9122c"
  },
  "kernelspec": {
   "display_name": "Python 3.8.10 64-bit (windows store)",
   "language": "python",
   "name": "python3"
  },
  "language_info": {
   "codemirror_mode": {
    "name": "ipython",
    "version": 3
   },
   "file_extension": ".py",
   "mimetype": "text/x-python",
   "name": "python",
   "nbconvert_exporter": "python",
   "pygments_lexer": "ipython3",
   "version": "3.8.10"
  },
  "orig_nbformat": 4
 },
 "nbformat": 4,
 "nbformat_minor": 2
}
