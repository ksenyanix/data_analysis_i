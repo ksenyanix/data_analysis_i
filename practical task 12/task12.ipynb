{
 "cells": [
  {
   "cell_type": "code",
   "execution_count": 19,
   "metadata": {},
   "outputs": [],
   "source": [
    "import pandas as pd \n",
    "import numpy as np\n",
    "import matplotlib.pyplot as plt\n",
    "import statsmodels.api as sm\n",
    "import statsmodels.formula.api as smf"
   ]
  },
  {
   "cell_type": "code",
   "execution_count": 20,
   "metadata": {},
   "outputs": [
    {
     "data": {
      "text/html": [
       "<div>\n",
       "<style scoped>\n",
       "    .dataframe tbody tr th:only-of-type {\n",
       "        vertical-align: middle;\n",
       "    }\n",
       "\n",
       "    .dataframe tbody tr th {\n",
       "        vertical-align: top;\n",
       "    }\n",
       "\n",
       "    .dataframe thead th {\n",
       "        text-align: right;\n",
       "    }\n",
       "</style>\n",
       "<table border=\"1\" class=\"dataframe\">\n",
       "  <thead>\n",
       "    <tr style=\"text-align: right;\">\n",
       "      <th></th>\n",
       "      <th>weight</th>\n",
       "      <th>light</th>\n",
       "      <th>watering</th>\n",
       "      <th>medium</th>\n",
       "    </tr>\n",
       "  </thead>\n",
       "  <tbody>\n",
       "    <tr>\n",
       "      <th>0</th>\n",
       "      <td>2.02</td>\n",
       "      <td>normal</td>\n",
       "      <td>1</td>\n",
       "      <td>soil</td>\n",
       "    </tr>\n",
       "    <tr>\n",
       "      <th>1</th>\n",
       "      <td>0.30</td>\n",
       "      <td>normal</td>\n",
       "      <td>1</td>\n",
       "      <td>cottonwool</td>\n",
       "    </tr>\n",
       "    <tr>\n",
       "      <th>2</th>\n",
       "      <td>0.27</td>\n",
       "      <td>normal</td>\n",
       "      <td>1</td>\n",
       "      <td>newspaper</td>\n",
       "    </tr>\n",
       "    <tr>\n",
       "      <th>3</th>\n",
       "      <td>0.09</td>\n",
       "      <td>normal</td>\n",
       "      <td>1</td>\n",
       "      <td>sawdust</td>\n",
       "    </tr>\n",
       "    <tr>\n",
       "      <th>4</th>\n",
       "      <td>2.04</td>\n",
       "      <td>normal</td>\n",
       "      <td>1</td>\n",
       "      <td>soil</td>\n",
       "    </tr>\n",
       "  </tbody>\n",
       "</table>\n",
       "</div>"
      ],
      "text/plain": [
       "   weight   light  watering      medium\n",
       "0    2.02  normal         1        soil\n",
       "1    0.30  normal         1  cottonwool\n",
       "2    0.27  normal         1   newspaper\n",
       "3    0.09  normal         1     sawdust\n",
       "4    2.04  normal         1        soil"
      ]
     },
     "execution_count": 20,
     "metadata": {},
     "output_type": "execute_result"
    }
   ],
   "source": [
    "df = pd.read_csv(\"Mustard.csv\")\n",
    "df.head()"
   ]
  },
  {
   "cell_type": "code",
   "execution_count": 21,
   "metadata": {},
   "outputs": [],
   "source": [
    "df.dropna(subset = [\"weight\"], inplace=True)\n",
    "df.dropna(subset = [\"light\"], inplace=True)\n",
    "df.dropna(subset = [\"watering\"], inplace=True)\n",
    "df.dropna(subset = [\"medium\"], inplace=True)"
   ]
  },
  {
   "cell_type": "markdown",
   "metadata": {},
   "source": [
    "### For all three models describe complexity and goodness of fit by listing the degrees of freedom and residual sum of squares, respectively."
   ]
  },
  {
   "cell_type": "markdown",
   "metadata": {},
   "source": [
    "> The residual sum of squares (RSS) measures the level of variance in the error term, or residuals, of a regression model. The smaller the residual sum of squares, the better your model fits your data; the greater the residual sum of squares, the poorer your model fits your data."
   ]
  },
  {
   "cell_type": "markdown",
   "metadata": {},
   "source": [
    "> The degrees of freedom are an accounting of how many parameters are estimated by the model and, by extension, a measure of complexity for linear regression models. For example, the complexity of a linear regression model with two parameters is equal to the degrees of freedom, which in this case is 2. We often prefer lower complexity models over higher complexity models. Simpler models generalize better."
   ]
  },
  {
   "cell_type": "code",
   "execution_count": 22,
   "metadata": {},
   "outputs": [
    {
     "data": {
      "text/html": [
       "<div>\n",
       "<style scoped>\n",
       "    .dataframe tbody tr th:only-of-type {\n",
       "        vertical-align: middle;\n",
       "    }\n",
       "\n",
       "    .dataframe tbody tr th {\n",
       "        vertical-align: top;\n",
       "    }\n",
       "\n",
       "    .dataframe thead th {\n",
       "        text-align: right;\n",
       "    }\n",
       "</style>\n",
       "<table border=\"1\" class=\"dataframe\">\n",
       "  <thead>\n",
       "    <tr style=\"text-align: right;\">\n",
       "      <th></th>\n",
       "      <th>df</th>\n",
       "      <th>sum_sq</th>\n",
       "      <th>mean_sq</th>\n",
       "      <th>F</th>\n",
       "      <th>PR(&gt;F)</th>\n",
       "    </tr>\n",
       "  </thead>\n",
       "  <tbody>\n",
       "    <tr>\n",
       "      <th>light</th>\n",
       "      <td>2.0</td>\n",
       "      <td>7.755972</td>\n",
       "      <td>3.877986</td>\n",
       "      <td>16.205559</td>\n",
       "      <td>8.468511e-07</td>\n",
       "    </tr>\n",
       "    <tr>\n",
       "      <th>medium</th>\n",
       "      <td>3.0</td>\n",
       "      <td>85.111348</td>\n",
       "      <td>28.370449</td>\n",
       "      <td>118.556130</td>\n",
       "      <td>2.515220e-32</td>\n",
       "    </tr>\n",
       "    <tr>\n",
       "      <th>C(watering)</th>\n",
       "      <td>2.0</td>\n",
       "      <td>39.333620</td>\n",
       "      <td>19.666810</td>\n",
       "      <td>82.184842</td>\n",
       "      <td>1.322974e-21</td>\n",
       "    </tr>\n",
       "    <tr>\n",
       "      <th>Residual</th>\n",
       "      <td>97.0</td>\n",
       "      <td>23.212073</td>\n",
       "      <td>0.239300</td>\n",
       "      <td>NaN</td>\n",
       "      <td>NaN</td>\n",
       "    </tr>\n",
       "  </tbody>\n",
       "</table>\n",
       "</div>"
      ],
      "text/plain": [
       "               df     sum_sq    mean_sq           F        PR(>F)\n",
       "light         2.0   7.755972   3.877986   16.205559  8.468511e-07\n",
       "medium        3.0  85.111348  28.370449  118.556130  2.515220e-32\n",
       "C(watering)   2.0  39.333620  19.666810   82.184842  1.322974e-21\n",
       "Residual     97.0  23.212073   0.239300         NaN           NaN"
      ]
     },
     "execution_count": 22,
     "metadata": {},
     "output_type": "execute_result"
    }
   ],
   "source": [
    "m_one = smf.ols(\"weight ~ light + medium + C(watering)\", data=df).fit()\n",
    "sm.stats.anova_lm(m_one)"
   ]
  },
  {
   "cell_type": "code",
   "execution_count": 23,
   "metadata": {},
   "outputs": [],
   "source": [
    "# df = 6, rss = 25"
   ]
  },
  {
   "cell_type": "code",
   "execution_count": 24,
   "metadata": {},
   "outputs": [
    {
     "data": {
      "text/html": [
       "<div>\n",
       "<style scoped>\n",
       "    .dataframe tbody tr th:only-of-type {\n",
       "        vertical-align: middle;\n",
       "    }\n",
       "\n",
       "    .dataframe tbody tr th {\n",
       "        vertical-align: top;\n",
       "    }\n",
       "\n",
       "    .dataframe thead th {\n",
       "        text-align: right;\n",
       "    }\n",
       "</style>\n",
       "<table border=\"1\" class=\"dataframe\">\n",
       "  <thead>\n",
       "    <tr style=\"text-align: right;\">\n",
       "      <th></th>\n",
       "      <th>df</th>\n",
       "      <th>sum_sq</th>\n",
       "      <th>mean_sq</th>\n",
       "      <th>F</th>\n",
       "      <th>PR(&gt;F)</th>\n",
       "    </tr>\n",
       "  </thead>\n",
       "  <tbody>\n",
       "    <tr>\n",
       "      <th>medium</th>\n",
       "      <td>3.0</td>\n",
       "      <td>85.483215</td>\n",
       "      <td>28.494405</td>\n",
       "      <td>125.147772</td>\n",
       "      <td>2.554760e-30</td>\n",
       "    </tr>\n",
       "    <tr>\n",
       "      <th>C(watering)</th>\n",
       "      <td>2.0</td>\n",
       "      <td>39.486821</td>\n",
       "      <td>19.743410</td>\n",
       "      <td>86.713297</td>\n",
       "      <td>7.385192e-21</td>\n",
       "    </tr>\n",
       "    <tr>\n",
       "      <th>light</th>\n",
       "      <td>2.0</td>\n",
       "      <td>7.230904</td>\n",
       "      <td>3.615452</td>\n",
       "      <td>15.879108</td>\n",
       "      <td>1.519292e-06</td>\n",
       "    </tr>\n",
       "    <tr>\n",
       "      <th>medium:C(watering)</th>\n",
       "      <td>6.0</td>\n",
       "      <td>2.048888</td>\n",
       "      <td>0.341481</td>\n",
       "      <td>1.499790</td>\n",
       "      <td>1.887237e-01</td>\n",
       "    </tr>\n",
       "    <tr>\n",
       "      <th>medium:light</th>\n",
       "      <td>6.0</td>\n",
       "      <td>1.342297</td>\n",
       "      <td>0.223716</td>\n",
       "      <td>0.982564</td>\n",
       "      <td>4.425840e-01</td>\n",
       "    </tr>\n",
       "    <tr>\n",
       "      <th>C(watering):light</th>\n",
       "      <td>4.0</td>\n",
       "      <td>1.378317</td>\n",
       "      <td>0.344579</td>\n",
       "      <td>1.513396</td>\n",
       "      <td>2.060287e-01</td>\n",
       "    </tr>\n",
       "    <tr>\n",
       "      <th>Residual</th>\n",
       "      <td>81.0</td>\n",
       "      <td>18.442572</td>\n",
       "      <td>0.227686</td>\n",
       "      <td>NaN</td>\n",
       "      <td>NaN</td>\n",
       "    </tr>\n",
       "  </tbody>\n",
       "</table>\n",
       "</div>"
      ],
      "text/plain": [
       "                      df     sum_sq    mean_sq           F        PR(>F)\n",
       "medium               3.0  85.483215  28.494405  125.147772  2.554760e-30\n",
       "C(watering)          2.0  39.486821  19.743410   86.713297  7.385192e-21\n",
       "light                2.0   7.230904   3.615452   15.879108  1.519292e-06\n",
       "medium:C(watering)   6.0   2.048888   0.341481    1.499790  1.887237e-01\n",
       "medium:light         6.0   1.342297   0.223716    0.982564  4.425840e-01\n",
       "C(watering):light    4.0   1.378317   0.344579    1.513396  2.060287e-01\n",
       "Residual            81.0  18.442572   0.227686         NaN           NaN"
      ]
     },
     "execution_count": 24,
     "metadata": {},
     "output_type": "execute_result"
    }
   ],
   "source": [
    "m_two = smf.ols(\"weight ~ medium*C(watering) + medium*light + C(watering)*light\", data=df).fit()\n",
    "sm.stats.anova_lm(m_two)"
   ]
  },
  {
   "cell_type": "code",
   "execution_count": 25,
   "metadata": {},
   "outputs": [],
   "source": [
    "# df = 17 , rss = 22"
   ]
  },
  {
   "cell_type": "code",
   "execution_count": 26,
   "metadata": {},
   "outputs": [
    {
     "data": {
      "text/html": [
       "<div>\n",
       "<style scoped>\n",
       "    .dataframe tbody tr th:only-of-type {\n",
       "        vertical-align: middle;\n",
       "    }\n",
       "\n",
       "    .dataframe tbody tr th {\n",
       "        vertical-align: top;\n",
       "    }\n",
       "\n",
       "    .dataframe thead th {\n",
       "        text-align: right;\n",
       "    }\n",
       "</style>\n",
       "<table border=\"1\" class=\"dataframe\">\n",
       "  <thead>\n",
       "    <tr style=\"text-align: right;\">\n",
       "      <th></th>\n",
       "      <th>df</th>\n",
       "      <th>sum_sq</th>\n",
       "      <th>mean_sq</th>\n",
       "      <th>F</th>\n",
       "      <th>PR(&gt;F)</th>\n",
       "    </tr>\n",
       "  </thead>\n",
       "  <tbody>\n",
       "    <tr>\n",
       "      <th>light</th>\n",
       "      <td>2.0</td>\n",
       "      <td>7.755972</td>\n",
       "      <td>3.877986</td>\n",
       "      <td>17.664037</td>\n",
       "      <td>6.389288e-07</td>\n",
       "    </tr>\n",
       "    <tr>\n",
       "      <th>medium</th>\n",
       "      <td>3.0</td>\n",
       "      <td>85.111348</td>\n",
       "      <td>28.370449</td>\n",
       "      <td>129.226021</td>\n",
       "      <td>2.987437e-28</td>\n",
       "    </tr>\n",
       "    <tr>\n",
       "      <th>C(watering)</th>\n",
       "      <td>2.0</td>\n",
       "      <td>39.333620</td>\n",
       "      <td>19.666810</td>\n",
       "      <td>89.581367</td>\n",
       "      <td>6.635630e-20</td>\n",
       "    </tr>\n",
       "    <tr>\n",
       "      <th>light:medium</th>\n",
       "      <td>6.0</td>\n",
       "      <td>1.462860</td>\n",
       "      <td>0.243810</td>\n",
       "      <td>1.110543</td>\n",
       "      <td>3.652768e-01</td>\n",
       "    </tr>\n",
       "    <tr>\n",
       "      <th>light:C(watering)</th>\n",
       "      <td>4.0</td>\n",
       "      <td>1.342000</td>\n",
       "      <td>0.335500</td>\n",
       "      <td>1.528186</td>\n",
       "      <td>2.036241e-01</td>\n",
       "    </tr>\n",
       "    <tr>\n",
       "      <th>medium:C(watering)</th>\n",
       "      <td>6.0</td>\n",
       "      <td>1.964641</td>\n",
       "      <td>0.327440</td>\n",
       "      <td>1.491474</td>\n",
       "      <td>1.940282e-01</td>\n",
       "    </tr>\n",
       "    <tr>\n",
       "      <th>light:medium:C(watering)</th>\n",
       "      <td>12.0</td>\n",
       "      <td>3.294222</td>\n",
       "      <td>0.274519</td>\n",
       "      <td>1.250419</td>\n",
       "      <td>2.681899e-01</td>\n",
       "    </tr>\n",
       "    <tr>\n",
       "      <th>Residual</th>\n",
       "      <td>69.0</td>\n",
       "      <td>15.148350</td>\n",
       "      <td>0.219541</td>\n",
       "      <td>NaN</td>\n",
       "      <td>NaN</td>\n",
       "    </tr>\n",
       "  </tbody>\n",
       "</table>\n",
       "</div>"
      ],
      "text/plain": [
       "                            df     sum_sq    mean_sq           F        PR(>F)\n",
       "light                      2.0   7.755972   3.877986   17.664037  6.389288e-07\n",
       "medium                     3.0  85.111348  28.370449  129.226021  2.987437e-28\n",
       "C(watering)                2.0  39.333620  19.666810   89.581367  6.635630e-20\n",
       "light:medium               6.0   1.462860   0.243810    1.110543  3.652768e-01\n",
       "light:C(watering)          4.0   1.342000   0.335500    1.528186  2.036241e-01\n",
       "medium:C(watering)         6.0   1.964641   0.327440    1.491474  1.940282e-01\n",
       "light:medium:C(watering)  12.0   3.294222   0.274519    1.250419  2.681899e-01\n",
       "Residual                  69.0  15.148350   0.219541         NaN           NaN"
      ]
     },
     "execution_count": 26,
     "metadata": {},
     "output_type": "execute_result"
    }
   ],
   "source": [
    "m_three = smf.ols(\"weight ~ light * medium * C(watering)\", data=df).fit()\n",
    "sm.stats.anova_lm(m_three)"
   ]
  },
  {
   "cell_type": "code",
   "execution_count": 27,
   "metadata": {},
   "outputs": [],
   "source": [
    "# df = 23, rss = 21"
   ]
  },
  {
   "cell_type": "code",
   "execution_count": 28,
   "metadata": {},
   "outputs": [
    {
     "data": {
      "text/html": [
       "<div>\n",
       "<style scoped>\n",
       "    .dataframe tbody tr th:only-of-type {\n",
       "        vertical-align: middle;\n",
       "    }\n",
       "\n",
       "    .dataframe tbody tr th {\n",
       "        vertical-align: top;\n",
       "    }\n",
       "\n",
       "    .dataframe thead th {\n",
       "        text-align: right;\n",
       "    }\n",
       "</style>\n",
       "<table border=\"1\" class=\"dataframe\">\n",
       "  <thead>\n",
       "    <tr style=\"text-align: right;\">\n",
       "      <th></th>\n",
       "      <th>df_resid</th>\n",
       "      <th>ssr</th>\n",
       "      <th>df_diff</th>\n",
       "      <th>ss_diff</th>\n",
       "      <th>F</th>\n",
       "      <th>Pr(&gt;F)</th>\n",
       "    </tr>\n",
       "  </thead>\n",
       "  <tbody>\n",
       "    <tr>\n",
       "      <th>0</th>\n",
       "      <td>97.0</td>\n",
       "      <td>23.212073</td>\n",
       "      <td>0.0</td>\n",
       "      <td>NaN</td>\n",
       "      <td>NaN</td>\n",
       "      <td>NaN</td>\n",
       "    </tr>\n",
       "    <tr>\n",
       "      <th>1</th>\n",
       "      <td>81.0</td>\n",
       "      <td>18.442572</td>\n",
       "      <td>16.0</td>\n",
       "      <td>4.769501</td>\n",
       "      <td>1.357803</td>\n",
       "      <td>0.184431</td>\n",
       "    </tr>\n",
       "    <tr>\n",
       "      <th>2</th>\n",
       "      <td>69.0</td>\n",
       "      <td>15.148350</td>\n",
       "      <td>12.0</td>\n",
       "      <td>3.294222</td>\n",
       "      <td>1.250419</td>\n",
       "      <td>0.268190</td>\n",
       "    </tr>\n",
       "  </tbody>\n",
       "</table>\n",
       "</div>"
      ],
      "text/plain": [
       "   df_resid        ssr  df_diff   ss_diff         F    Pr(>F)\n",
       "0      97.0  23.212073      0.0       NaN       NaN       NaN\n",
       "1      81.0  18.442572     16.0  4.769501  1.357803  0.184431\n",
       "2      69.0  15.148350     12.0  3.294222  1.250419  0.268190"
      ]
     },
     "execution_count": 28,
     "metadata": {},
     "output_type": "execute_result"
    }
   ],
   "source": [
    "sm.stats.anova_lm(m_one, m_two, m_three)"
   ]
  },
  {
   "cell_type": "markdown",
   "metadata": {},
   "source": [
    "> Best fit is model with 3-way interaction, but it is also the most complex model. \\\n",
    "Model with 2-way interaction has less DF which makes it less complex, and RSS almost same as third model \\\n",
    "First model has only 6 degrees of freedom which makes it the simpliest of all three. Difference between rss1 and (rss2, rss3) is not big, that makes first model the most optimal one"
   ]
  },
  {
   "cell_type": "markdown",
   "metadata": {},
   "source": [
    "### Carry out an ANOVA to compare Models 1 and 2. Which of these two models is preferable based on the test decision of the ANOVA?"
   ]
  },
  {
   "cell_type": "code",
   "execution_count": 29,
   "metadata": {},
   "outputs": [
    {
     "data": {
      "text/html": [
       "<div>\n",
       "<style scoped>\n",
       "    .dataframe tbody tr th:only-of-type {\n",
       "        vertical-align: middle;\n",
       "    }\n",
       "\n",
       "    .dataframe tbody tr th {\n",
       "        vertical-align: top;\n",
       "    }\n",
       "\n",
       "    .dataframe thead th {\n",
       "        text-align: right;\n",
       "    }\n",
       "</style>\n",
       "<table border=\"1\" class=\"dataframe\">\n",
       "  <thead>\n",
       "    <tr style=\"text-align: right;\">\n",
       "      <th></th>\n",
       "      <th>df_resid</th>\n",
       "      <th>ssr</th>\n",
       "      <th>df_diff</th>\n",
       "      <th>ss_diff</th>\n",
       "      <th>F</th>\n",
       "      <th>Pr(&gt;F)</th>\n",
       "    </tr>\n",
       "  </thead>\n",
       "  <tbody>\n",
       "    <tr>\n",
       "      <th>0</th>\n",
       "      <td>97.0</td>\n",
       "      <td>23.212073</td>\n",
       "      <td>0.0</td>\n",
       "      <td>NaN</td>\n",
       "      <td>NaN</td>\n",
       "      <td>NaN</td>\n",
       "    </tr>\n",
       "    <tr>\n",
       "      <th>1</th>\n",
       "      <td>81.0</td>\n",
       "      <td>18.442572</td>\n",
       "      <td>16.0</td>\n",
       "      <td>4.769501</td>\n",
       "      <td>1.309232</td>\n",
       "      <td>0.212108</td>\n",
       "    </tr>\n",
       "  </tbody>\n",
       "</table>\n",
       "</div>"
      ],
      "text/plain": [
       "   df_resid        ssr  df_diff   ss_diff         F    Pr(>F)\n",
       "0      97.0  23.212073      0.0       NaN       NaN       NaN\n",
       "1      81.0  18.442572     16.0  4.769501  1.309232  0.212108"
      ]
     },
     "execution_count": 29,
     "metadata": {},
     "output_type": "execute_result"
    }
   ],
   "source": [
    "sm.stats.anova_lm(m_one, m_two)"
   ]
  },
  {
   "cell_type": "markdown",
   "metadata": {},
   "source": [
    "### Analogously, carry out an ANOVA to compare Models 2 and 3 and describe the test decision."
   ]
  },
  {
   "cell_type": "code",
   "execution_count": 30,
   "metadata": {},
   "outputs": [
    {
     "data": {
      "text/html": [
       "<div>\n",
       "<style scoped>\n",
       "    .dataframe tbody tr th:only-of-type {\n",
       "        vertical-align: middle;\n",
       "    }\n",
       "\n",
       "    .dataframe tbody tr th {\n",
       "        vertical-align: top;\n",
       "    }\n",
       "\n",
       "    .dataframe thead th {\n",
       "        text-align: right;\n",
       "    }\n",
       "</style>\n",
       "<table border=\"1\" class=\"dataframe\">\n",
       "  <thead>\n",
       "    <tr style=\"text-align: right;\">\n",
       "      <th></th>\n",
       "      <th>df_resid</th>\n",
       "      <th>ssr</th>\n",
       "      <th>df_diff</th>\n",
       "      <th>ss_diff</th>\n",
       "      <th>F</th>\n",
       "      <th>Pr(&gt;F)</th>\n",
       "    </tr>\n",
       "  </thead>\n",
       "  <tbody>\n",
       "    <tr>\n",
       "      <th>0</th>\n",
       "      <td>81.0</td>\n",
       "      <td>18.442572</td>\n",
       "      <td>0.0</td>\n",
       "      <td>NaN</td>\n",
       "      <td>NaN</td>\n",
       "      <td>NaN</td>\n",
       "    </tr>\n",
       "    <tr>\n",
       "      <th>1</th>\n",
       "      <td>69.0</td>\n",
       "      <td>15.148350</td>\n",
       "      <td>12.0</td>\n",
       "      <td>3.294222</td>\n",
       "      <td>1.250419</td>\n",
       "      <td>0.26819</td>\n",
       "    </tr>\n",
       "  </tbody>\n",
       "</table>\n",
       "</div>"
      ],
      "text/plain": [
       "   df_resid        ssr  df_diff   ss_diff         F   Pr(>F)\n",
       "0      81.0  18.442572      0.0       NaN       NaN      NaN\n",
       "1      69.0  15.148350     12.0  3.294222  1.250419  0.26819"
      ]
     },
     "execution_count": 30,
     "metadata": {},
     "output_type": "execute_result"
    }
   ],
   "source": [
    "sm.stats.anova_lm(m_two, m_three)"
   ]
  },
  {
   "cell_type": "code",
   "execution_count": 31,
   "metadata": {},
   "outputs": [],
   "source": [
    "m = smf.ols(\"weight ~ 1\", data=df).fit()"
   ]
  },
  {
   "cell_type": "code",
   "execution_count": 32,
   "metadata": {},
   "outputs": [
    {
     "data": {
      "text/html": [
       "<div>\n",
       "<style scoped>\n",
       "    .dataframe tbody tr th:only-of-type {\n",
       "        vertical-align: middle;\n",
       "    }\n",
       "\n",
       "    .dataframe tbody tr th {\n",
       "        vertical-align: top;\n",
       "    }\n",
       "\n",
       "    .dataframe thead th {\n",
       "        text-align: right;\n",
       "    }\n",
       "</style>\n",
       "<table border=\"1\" class=\"dataframe\">\n",
       "  <thead>\n",
       "    <tr style=\"text-align: right;\">\n",
       "      <th></th>\n",
       "      <th>df_resid</th>\n",
       "      <th>ssr</th>\n",
       "      <th>df_diff</th>\n",
       "      <th>ss_diff</th>\n",
       "      <th>F</th>\n",
       "      <th>Pr(&gt;F)</th>\n",
       "    </tr>\n",
       "  </thead>\n",
       "  <tbody>\n",
       "    <tr>\n",
       "      <th>0</th>\n",
       "      <td>104.0</td>\n",
       "      <td>155.413013</td>\n",
       "      <td>0.0</td>\n",
       "      <td>NaN</td>\n",
       "      <td>NaN</td>\n",
       "      <td>NaN</td>\n",
       "    </tr>\n",
       "    <tr>\n",
       "      <th>1</th>\n",
       "      <td>97.0</td>\n",
       "      <td>23.212073</td>\n",
       "      <td>7.0</td>\n",
       "      <td>132.200940</td>\n",
       "      <td>86.024125</td>\n",
       "      <td>9.305596e-39</td>\n",
       "    </tr>\n",
       "    <tr>\n",
       "      <th>2</th>\n",
       "      <td>81.0</td>\n",
       "      <td>18.442572</td>\n",
       "      <td>16.0</td>\n",
       "      <td>4.769501</td>\n",
       "      <td>1.357803</td>\n",
       "      <td>1.844309e-01</td>\n",
       "    </tr>\n",
       "    <tr>\n",
       "      <th>3</th>\n",
       "      <td>69.0</td>\n",
       "      <td>15.148350</td>\n",
       "      <td>12.0</td>\n",
       "      <td>3.294222</td>\n",
       "      <td>1.250419</td>\n",
       "      <td>2.681899e-01</td>\n",
       "    </tr>\n",
       "  </tbody>\n",
       "</table>\n",
       "</div>"
      ],
      "text/plain": [
       "   df_resid         ssr  df_diff     ss_diff          F        Pr(>F)\n",
       "0     104.0  155.413013      0.0         NaN        NaN           NaN\n",
       "1      97.0   23.212073      7.0  132.200940  86.024125  9.305596e-39\n",
       "2      81.0   18.442572     16.0    4.769501   1.357803  1.844309e-01\n",
       "3      69.0   15.148350     12.0    3.294222   1.250419  2.681899e-01"
      ]
     },
     "execution_count": 32,
     "metadata": {},
     "output_type": "execute_result"
    }
   ],
   "source": [
    "sm.stats.anova_lm(m, m_one, m_two, m_three)"
   ]
  },
  {
   "cell_type": "code",
   "execution_count": null,
   "metadata": {},
   "outputs": [],
   "source": [
    "#check telegram :)"
   ]
  },
  {
   "cell_type": "markdown",
   "metadata": {},
   "source": [
    "### Overall, which of the three models would be selected in an ANOVA-based forward selection or backward selection?"
   ]
  },
  {
   "cell_type": "markdown",
   "metadata": {},
   "source": [
    "> The third model (as the most complex) would be selected in an ANOVA-based backward selection"
   ]
  },
  {
   "cell_type": "markdown",
   "metadata": {},
   "source": [
    "> The first model (as the most simple) would be selected in an ANOVA-based forward selection"
   ]
  },
  {
   "cell_type": "code",
   "execution_count": 33,
   "metadata": {},
   "outputs": [
    {
     "name": "stdout",
     "output_type": "stream",
     "text": [
      "Step:  aic= 175.36425763675854\n",
      "(' - light:medium:watering', 168.28454204622983)\n",
      "(' - light:medium', 169.32966041271263)\n",
      "(' - medium:watering', 175.3642576367585)\n",
      "('', 175.36425763675854)\n",
      "(' - light:watering', 175.36425763675854)\n",
      "Step:  aic= 168.28454204622983\n",
      "(' - light:medium', 163.90166328580037)\n",
      "(' - medium:watering', 166.44813785924717)\n",
      "('', 168.28454204622983)\n",
      "(' - light:watering', 168.3497665460794)\n",
      "(' + light:medium:watering', 175.36425763675854)\n",
      "Step:  aic= 163.90166328580037\n",
      "(' - medium:watering', 161.85963392947122)\n",
      "(' - light:watering', 163.60679726952714)\n",
      "('', 163.90166328580037)\n",
      "(' + light:medium', 168.28454204622983)\n",
      "(' + light:medium:watering', 169.32966041271263)\n",
      "Step:  aic= 161.85963392947122\n",
      "(' - light:watering', 161.49117043622041)\n",
      "('', 161.85963392947122)\n",
      "(' + medium:watering', 163.90166328580037)\n",
      "(' + light:medium', 166.44813785924717)\n",
      "(' + light:medium:watering', 169.3296604127126)\n",
      "(' - medium', 313.3456188087899)\n",
      "Step:  aic= 161.49117043622041\n",
      "('', 161.49117043622041)\n",
      "(' + light:watering', 161.85963392947122)\n",
      "(' + medium:watering', 163.60679726952714)\n",
      "(' + light:medium', 166.42634426870495)\n",
      "(' + light:medium:watering', 169.32966041271263)\n",
      "(' - light', 183.1469352725096)\n",
      "(' - watering', 255.58048091580582)\n",
      "(' - medium', 310.25943840494745)\n",
      "Result: aic= 161.49117043622041\n",
      "weight ~ light + medium + watering\n"
     ]
    }
   ],
   "source": [
    "from stepwise_selection import stepwise_selection\n",
    "m_twoo = smf.ols(\"weight ~ light * medium * watering\", data=df)\n",
    "m_2 = stepwise_selection(m_twoo, scope={\"lower\": \"weight ~ 1\",\n",
    "                                        \"upper\": \"weight ~ (light * medium * watering)**2\" })"
   ]
  },
  {
   "cell_type": "markdown",
   "metadata": {},
   "source": [
    "> According to stepwise selection the best model is first one (weight ~ light + medium + watering)"
   ]
  },
  {
   "cell_type": "markdown",
   "metadata": {},
   "source": []
  }
 ],
 "metadata": {
  "interpreter": {
   "hash": "67645e4edde45144644326d4815cd26b14c8093db79836f9b69d4c3e18d9122c"
  },
  "kernelspec": {
   "display_name": "Python 3.8.10 64-bit (windows store)",
   "language": "python",
   "name": "python3"
  },
  "language_info": {
   "codemirror_mode": {
    "name": "ipython",
    "version": 3
   },
   "file_extension": ".py",
   "mimetype": "text/x-python",
   "name": "python",
   "nbconvert_exporter": "python",
   "pygments_lexer": "ipython3",
   "version": "3.8.10"
  },
  "orig_nbformat": 4
 },
 "nbformat": 4,
 "nbformat_minor": 2
}
