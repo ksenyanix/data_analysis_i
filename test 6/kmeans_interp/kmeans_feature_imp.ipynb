{
 "cells": [
  {
   "cell_type": "code",
   "execution_count": 1,
   "metadata": {},
   "outputs": [],
   "source": [
    "from sklearn.cluster import KMeans\n",
    "import numpy as np\n"
   ]
  },
  {
   "cell_type": "code",
   "execution_count": 2,
   "metadata": {},
   "outputs": [],
   "source": [
    "class KMeansInterp(KMeans):\n",
    "    def __init__(self, ordered_feature_names, feature_importance_method='wcss_min', **kwargs):\n",
    "        super(KMeansInterp, self).__init__(**kwargs)\n",
    "        self.feature_importance_method = feature_importance_method\n",
    "        self.ordered_feature_names = ordered_feature_names\n",
    "        \n",
    "    def fit(self, X, y=None, sample_weight=None):\n",
    "        super().fit(X=X, y=y, sample_weight=sample_weight)\n",
    "        \n",
    "        if not len(self.ordered_feature_names) == self.n_features_in_:\n",
    "            raise Exception(f\"Model is fitted on {self.n_features_in_} but ordered_feature_names = {len(self.ordered_feature_names)}\")\n",
    "        \n",
    "        if self.feature_importance_method == \"wcss_min\":\n",
    "            self.feature_importances_ = self.get_feature_imp_wcss_min()\n",
    "        \n",
    "        return self\n",
    "        \n",
    "    def get_feature_imp_wcss_min(self):\n",
    "        labels = self.n_clusters\n",
    "        centroids = self.cluster_centers_\n",
    "        centroids = np.vectorize(lambda x: np.abs(x))(centroids)\n",
    "        sorted_centroid_features_idx = centroids.argsort(axis=1)[:,::-1]\n",
    "\n",
    "        cluster_feature_weights = {}\n",
    "        for label, centroid in zip(range(labels), sorted_centroid_features_idx):\n",
    "            ordered_cluster_feature_weights = centroids[label][sorted_centroid_features_idx[label]]\n",
    "            ordered_cluster_features = [self.ordered_feature_names[feature] for feature in centroid]\n",
    "            cluster_feature_weights[label] = list(zip(ordered_cluster_features, \n",
    "                                                      ordered_cluster_feature_weights))\n",
    "        \n",
    "        return cluster_feature_weights\n",
    "    "
   ]
  },
  {
   "cell_type": "code",
   "execution_count": null,
   "metadata": {},
   "outputs": [],
   "source": []
  }
 ],
 "metadata": {
  "interpreter": {
   "hash": "67645e4edde45144644326d4815cd26b14c8093db79836f9b69d4c3e18d9122c"
  },
  "kernelspec": {
   "display_name": "Python 3.8.10 64-bit (windows store)",
   "language": "python",
   "name": "python3"
  },
  "language_info": {
   "codemirror_mode": {
    "name": "ipython",
    "version": 3
   },
   "file_extension": ".py",
   "mimetype": "text/x-python",
   "name": "python",
   "nbconvert_exporter": "python",
   "pygments_lexer": "ipython3",
   "version": "3.8.10"
  },
  "orig_nbformat": 4
 },
 "nbformat": 4,
 "nbformat_minor": 2
}
