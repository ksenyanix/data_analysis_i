{
 "cells": [
  {
   "cell_type": "code",
   "execution_count": 1,
   "metadata": {},
   "outputs": [],
   "source": [
    "from random import randint\n",
    "import pandas as pd \n",
    "import numpy as np\n",
    "import seaborn as sns\n",
    "import matplotlib.pyplot as plt\n",
    "import statsmodels.api as sm\n",
    "import statsmodels.formula.api as smf\n",
    "from sklearn import linear_model\n",
    "from scipy import (              \n",
    "    misc, stats, ndimage)\n",
    "from scipy.stats import linregress\n",
    "from statsmodels.formula.api import ols\n",
    "from statsmodels.stats.multicomp import (\n",
    "    pairwise_tukeyhsd, MultiComparison)"
   ]
  },
  {
   "cell_type": "markdown",
   "metadata": {},
   "source": [
    "For the data from the Mustard experiment (csv, rda), consider potentiel pairwise interaction effects of the explanatory variables medium (soil, cotton wool, newspaper, or sawdust), frequency of watering (1, 3, or 5 times over 14 days), and type of light (normal, red, or green) on the weight of the plants in grams."
   ]
  },
  {
   "cell_type": "code",
   "execution_count": 2,
   "metadata": {},
   "outputs": [
    {
     "data": {
      "text/html": [
       "<div>\n",
       "<style scoped>\n",
       "    .dataframe tbody tr th:only-of-type {\n",
       "        vertical-align: middle;\n",
       "    }\n",
       "\n",
       "    .dataframe tbody tr th {\n",
       "        vertical-align: top;\n",
       "    }\n",
       "\n",
       "    .dataframe thead th {\n",
       "        text-align: right;\n",
       "    }\n",
       "</style>\n",
       "<table border=\"1\" class=\"dataframe\">\n",
       "  <thead>\n",
       "    <tr style=\"text-align: right;\">\n",
       "      <th></th>\n",
       "      <th>weight</th>\n",
       "      <th>light</th>\n",
       "      <th>watering</th>\n",
       "      <th>medium</th>\n",
       "    </tr>\n",
       "  </thead>\n",
       "  <tbody>\n",
       "    <tr>\n",
       "      <th>0</th>\n",
       "      <td>2.02</td>\n",
       "      <td>normal</td>\n",
       "      <td>1</td>\n",
       "      <td>soil</td>\n",
       "    </tr>\n",
       "    <tr>\n",
       "      <th>1</th>\n",
       "      <td>0.30</td>\n",
       "      <td>normal</td>\n",
       "      <td>1</td>\n",
       "      <td>cottonwool</td>\n",
       "    </tr>\n",
       "    <tr>\n",
       "      <th>2</th>\n",
       "      <td>0.27</td>\n",
       "      <td>normal</td>\n",
       "      <td>1</td>\n",
       "      <td>newspaper</td>\n",
       "    </tr>\n",
       "    <tr>\n",
       "      <th>3</th>\n",
       "      <td>0.09</td>\n",
       "      <td>normal</td>\n",
       "      <td>1</td>\n",
       "      <td>sawdust</td>\n",
       "    </tr>\n",
       "    <tr>\n",
       "      <th>4</th>\n",
       "      <td>2.04</td>\n",
       "      <td>normal</td>\n",
       "      <td>1</td>\n",
       "      <td>soil</td>\n",
       "    </tr>\n",
       "  </tbody>\n",
       "</table>\n",
       "</div>"
      ],
      "text/plain": [
       "   weight   light  watering      medium\n",
       "0    2.02  normal         1        soil\n",
       "1    0.30  normal         1  cottonwool\n",
       "2    0.27  normal         1   newspaper\n",
       "3    0.09  normal         1     sawdust\n",
       "4    2.04  normal         1        soil"
      ]
     },
     "execution_count": 2,
     "metadata": {},
     "output_type": "execute_result"
    }
   ],
   "source": [
    "df = pd.read_csv(\"Mustard.csv\")\n",
    "df.head()"
   ]
  },
  {
   "cell_type": "code",
   "execution_count": 4,
   "metadata": {},
   "outputs": [
    {
     "name": "stdout",
     "output_type": "stream",
     "text": [
      "<class 'pandas.core.frame.DataFrame'>\n",
      "RangeIndex: 108 entries, 0 to 107\n",
      "Data columns (total 4 columns):\n",
      " #   Column    Non-Null Count  Dtype  \n",
      "---  ------    --------------  -----  \n",
      " 0   weight    105 non-null    float64\n",
      " 1   light     108 non-null    object \n",
      " 2   watering  108 non-null    int64  \n",
      " 3   medium    108 non-null    object \n",
      "dtypes: float64(1), int64(1), object(2)\n",
      "memory usage: 3.5+ KB\n"
     ]
    }
   ],
   "source": [
    "df.info()"
   ]
  },
  {
   "cell_type": "code",
   "execution_count": 6,
   "metadata": {},
   "outputs": [],
   "source": [
    "df.dropna(subset = [\"weight\"], inplace=True)\n",
    "df.dropna(subset = [\"light\"], inplace=True)\n",
    "df.dropna(subset = [\"watering\"], inplace=True)\n",
    "df.dropna(subset = [\"medium\"], inplace=True)"
   ]
  },
  {
   "cell_type": "code",
   "execution_count": 7,
   "metadata": {},
   "outputs": [
    {
     "name": "stdout",
     "output_type": "stream",
     "text": [
      "<class 'pandas.core.frame.DataFrame'>\n",
      "Int64Index: 105 entries, 0 to 107\n",
      "Data columns (total 4 columns):\n",
      " #   Column    Non-Null Count  Dtype  \n",
      "---  ------    --------------  -----  \n",
      " 0   weight    105 non-null    float64\n",
      " 1   light     105 non-null    object \n",
      " 2   watering  105 non-null    int64  \n",
      " 3   medium    105 non-null    object \n",
      "dtypes: float64(1), int64(1), object(2)\n",
      "memory usage: 4.1+ KB\n"
     ]
    }
   ],
   "source": [
    "df.info()"
   ]
  },
  {
   "cell_type": "markdown",
   "metadata": {},
   "source": [
    "> Visualize the pairwise interaction effects."
   ]
  },
  {
   "cell_type": "code",
   "execution_count": 20,
   "metadata": {},
   "outputs": [
    {
     "data": {
      "image/png": "[encoded data removed]",
      "text/plain": [
       "<Figure size 360x360 with 1 Axes>"
      ]
     },
     "metadata": {
      "needs_background": "light"
     },
     "output_type": "display_data"
    }
   ],
   "source": [
    "# Create interaction \n",
    "df[\"interaction\"] = df.light.astype(str).str.cat(df.medium.astype(str), sep='.').str.cat(df.watering.astype(str), sep='.')\n",
    "\n",
    "\n",
    "sns.catplot(x=\"interaction\", y=\"weight\", kind=\"box\", data=df);\n",
    "plt.xlabel(\"interaction(treatment, arrangement)\")\n",
    "plt.xticks(rotation=90);\n",
    "plt.show()"
   ]
  },
  {
   "cell_type": "markdown",
   "metadata": {},
   "source": [
    "> Statistically assess their significance using an analysis of variance."
   ]
  },
  {
   "cell_type": "code",
   "execution_count": 22,
   "metadata": {},
   "outputs": [
    {
     "data": {
      "text/html": [
       "<div>\n",
       "<style scoped>\n",
       "    .dataframe tbody tr th:only-of-type {\n",
       "        vertical-align: middle;\n",
       "    }\n",
       "\n",
       "    .dataframe tbody tr th {\n",
       "        vertical-align: top;\n",
       "    }\n",
       "\n",
       "    .dataframe thead th {\n",
       "        text-align: right;\n",
       "    }\n",
       "</style>\n",
       "<table border=\"1\" class=\"dataframe\">\n",
       "  <thead>\n",
       "    <tr style=\"text-align: right;\">\n",
       "      <th></th>\n",
       "      <th>Variable</th>\n",
       "      <th>Outcome</th>\n",
       "      <th>Count</th>\n",
       "      <th>Percent</th>\n",
       "    </tr>\n",
       "  </thead>\n",
       "  <tbody>\n",
       "    <tr>\n",
       "      <th>0</th>\n",
       "      <td>light</td>\n",
       "      <td>red</td>\n",
       "      <td>36</td>\n",
       "      <td>34.29</td>\n",
       "    </tr>\n",
       "    <tr>\n",
       "      <th>1</th>\n",
       "      <td></td>\n",
       "      <td>normal</td>\n",
       "      <td>35</td>\n",
       "      <td>33.33</td>\n",
       "    </tr>\n",
       "    <tr>\n",
       "      <th>2</th>\n",
       "      <td></td>\n",
       "      <td>green</td>\n",
       "      <td>34</td>\n",
       "      <td>32.38</td>\n",
       "    </tr>\n",
       "    <tr>\n",
       "      <th>3</th>\n",
       "      <td>medium</td>\n",
       "      <td>soil</td>\n",
       "      <td>27</td>\n",
       "      <td>25.71</td>\n",
       "    </tr>\n",
       "    <tr>\n",
       "      <th>4</th>\n",
       "      <td></td>\n",
       "      <td>cottonwool</td>\n",
       "      <td>27</td>\n",
       "      <td>25.71</td>\n",
       "    </tr>\n",
       "    <tr>\n",
       "      <th>5</th>\n",
       "      <td></td>\n",
       "      <td>sawdust</td>\n",
       "      <td>27</td>\n",
       "      <td>25.71</td>\n",
       "    </tr>\n",
       "    <tr>\n",
       "      <th>6</th>\n",
       "      <td></td>\n",
       "      <td>newspaper</td>\n",
       "      <td>24</td>\n",
       "      <td>22.86</td>\n",
       "    </tr>\n",
       "    <tr>\n",
       "      <th>7</th>\n",
       "      <td>watering</td>\n",
       "      <td>1</td>\n",
       "      <td>36</td>\n",
       "      <td>34.29</td>\n",
       "    </tr>\n",
       "    <tr>\n",
       "      <th>8</th>\n",
       "      <td></td>\n",
       "      <td>5</td>\n",
       "      <td>35</td>\n",
       "      <td>33.33</td>\n",
       "    </tr>\n",
       "    <tr>\n",
       "      <th>9</th>\n",
       "      <td></td>\n",
       "      <td>3</td>\n",
       "      <td>34</td>\n",
       "      <td>32.38</td>\n",
       "    </tr>\n",
       "  </tbody>\n",
       "</table>\n",
       "</div>"
      ],
      "text/plain": [
       "   Variable     Outcome  Count  Percent\n",
       "0     light         red     36    34.29\n",
       "1                normal     35    33.33\n",
       "2                 green     34    32.38\n",
       "3    medium        soil     27    25.71\n",
       "4            cottonwool     27    25.71\n",
       "5               sawdust     27    25.71\n",
       "6             newspaper     24    22.86\n",
       "7  watering           1     36    34.29\n",
       "8                     5     35    33.33\n",
       "9                     3     34    32.38"
      ]
     },
     "execution_count": 22,
     "metadata": {},
     "output_type": "execute_result"
    }
   ],
   "source": [
    "import researchpy as rp\n",
    "rp.summary_cat(df[[\"light\", \"medium\", \"watering\"]])"
   ]
  },
  {
   "cell_type": "code",
   "execution_count": 23,
   "metadata": {},
   "outputs": [
    {
     "data": {
      "text/html": [
       "<div>\n",
       "<style scoped>\n",
       "    .dataframe tbody tr th:only-of-type {\n",
       "        vertical-align: middle;\n",
       "    }\n",
       "\n",
       "    .dataframe tbody tr th {\n",
       "        vertical-align: top;\n",
       "    }\n",
       "\n",
       "    .dataframe thead th {\n",
       "        text-align: right;\n",
       "    }\n",
       "</style>\n",
       "<table border=\"1\" class=\"dataframe\">\n",
       "  <thead>\n",
       "    <tr style=\"text-align: right;\">\n",
       "      <th></th>\n",
       "      <th>sum_sq</th>\n",
       "      <th>df</th>\n",
       "      <th>F</th>\n",
       "      <th>PR(&gt;F)</th>\n",
       "    </tr>\n",
       "  </thead>\n",
       "  <tbody>\n",
       "    <tr>\n",
       "      <th>Intercept</th>\n",
       "      <td>352.424935</td>\n",
       "      <td>1.0</td>\n",
       "      <td>1605.278498</td>\n",
       "      <td>1.614567e-49</td>\n",
       "    </tr>\n",
       "    <tr>\n",
       "      <th>C(light, Sum)</th>\n",
       "      <td>6.195218</td>\n",
       "      <td>2.0</td>\n",
       "      <td>14.109460</td>\n",
       "      <td>7.292750e-06</td>\n",
       "    </tr>\n",
       "    <tr>\n",
       "      <th>C(medium, Sum)</th>\n",
       "      <td>84.090658</td>\n",
       "      <td>3.0</td>\n",
       "      <td>127.676290</td>\n",
       "      <td>4.248457e-28</td>\n",
       "    </tr>\n",
       "    <tr>\n",
       "      <th>C(watering, Sum)</th>\n",
       "      <td>38.812414</td>\n",
       "      <td>2.0</td>\n",
       "      <td>88.394332</td>\n",
       "      <td>9.245062e-20</td>\n",
       "    </tr>\n",
       "    <tr>\n",
       "      <th>C(light, Sum):C(medium, Sum)</th>\n",
       "      <td>1.592081</td>\n",
       "      <td>6.0</td>\n",
       "      <td>1.208642</td>\n",
       "      <td>3.124360e-01</td>\n",
       "    </tr>\n",
       "    <tr>\n",
       "      <th>C(light, Sum):C(watering, Sum)</th>\n",
       "      <td>1.246619</td>\n",
       "      <td>4.0</td>\n",
       "      <td>1.419572</td>\n",
       "      <td>2.366948e-01</td>\n",
       "    </tr>\n",
       "    <tr>\n",
       "      <th>C(medium, Sum):C(watering, Sum)</th>\n",
       "      <td>1.741985</td>\n",
       "      <td>6.0</td>\n",
       "      <td>1.322443</td>\n",
       "      <td>2.590035e-01</td>\n",
       "    </tr>\n",
       "    <tr>\n",
       "      <th>C(light, Sum):C(medium, Sum):C(watering, Sum)</th>\n",
       "      <td>3.294222</td>\n",
       "      <td>12.0</td>\n",
       "      <td>1.250419</td>\n",
       "      <td>2.681899e-01</td>\n",
       "    </tr>\n",
       "    <tr>\n",
       "      <th>Residual</th>\n",
       "      <td>15.148350</td>\n",
       "      <td>69.0</td>\n",
       "      <td>NaN</td>\n",
       "      <td>NaN</td>\n",
       "    </tr>\n",
       "  </tbody>\n",
       "</table>\n",
       "</div>"
      ],
      "text/plain": [
       "                                                   sum_sq    df            F  \\\n",
       "Intercept                                      352.424935   1.0  1605.278498   \n",
       "C(light, Sum)                                    6.195218   2.0    14.109460   \n",
       "C(medium, Sum)                                  84.090658   3.0   127.676290   \n",
       "C(watering, Sum)                                38.812414   2.0    88.394332   \n",
       "C(light, Sum):C(medium, Sum)                     1.592081   6.0     1.208642   \n",
       "C(light, Sum):C(watering, Sum)                   1.246619   4.0     1.419572   \n",
       "C(medium, Sum):C(watering, Sum)                  1.741985   6.0     1.322443   \n",
       "C(light, Sum):C(medium, Sum):C(watering, Sum)    3.294222  12.0     1.250419   \n",
       "Residual                                        15.148350  69.0          NaN   \n",
       "\n",
       "                                                     PR(>F)  \n",
       "Intercept                                      1.614567e-49  \n",
       "C(light, Sum)                                  7.292750e-06  \n",
       "C(medium, Sum)                                 4.248457e-28  \n",
       "C(watering, Sum)                               9.245062e-20  \n",
       "C(light, Sum):C(medium, Sum)                   3.124360e-01  \n",
       "C(light, Sum):C(watering, Sum)                 2.366948e-01  \n",
       "C(medium, Sum):C(watering, Sum)                2.590035e-01  \n",
       "C(light, Sum):C(medium, Sum):C(watering, Sum)  2.681899e-01  \n",
       "Residual                                                NaN  "
      ]
     },
     "execution_count": 23,
     "metadata": {},
     "output_type": "execute_result"
    }
   ],
   "source": [
    "from statsmodels.formula.api import ols\n",
    "\n",
    "model = ols(\"weight ~ C(light, Sum) + C(medium, Sum) + C(watering, Sum) + C(light, Sum)*C(medium, Sum)*C(watering, Sum)\", data=df).fit()\n",
    "\n",
    "aov_table = sm.stats.anova_lm(model, typ=3)\n",
    "aov_table"
   ]
  },
  {
   "cell_type": "markdown",
   "metadata": {},
   "source": [
    "The interaction between light, medium, and watering is statistically non-significant. This indicates that different level combinations of the factors do not produce a significant difference in the weight. Thus this term should be removed from the ANOVA model and re-ran looking at the 2-factor interactions."
   ]
  },
  {
   "cell_type": "code",
   "execution_count": 24,
   "metadata": {},
   "outputs": [
    {
     "data": {
      "text/html": [
       "<div>\n",
       "<style scoped>\n",
       "    .dataframe tbody tr th:only-of-type {\n",
       "        vertical-align: middle;\n",
       "    }\n",
       "\n",
       "    .dataframe tbody tr th {\n",
       "        vertical-align: top;\n",
       "    }\n",
       "\n",
       "    .dataframe thead th {\n",
       "        text-align: right;\n",
       "    }\n",
       "</style>\n",
       "<table border=\"1\" class=\"dataframe\">\n",
       "  <thead>\n",
       "    <tr style=\"text-align: right;\">\n",
       "      <th></th>\n",
       "      <th>sum_sq</th>\n",
       "      <th>df</th>\n",
       "      <th>F</th>\n",
       "      <th>PR(&gt;F)</th>\n",
       "    </tr>\n",
       "  </thead>\n",
       "  <tbody>\n",
       "    <tr>\n",
       "      <th>Intercept</th>\n",
       "      <td>365.503743</td>\n",
       "      <td>1.0</td>\n",
       "      <td>1605.296864</td>\n",
       "      <td>3.627420e-55</td>\n",
       "    </tr>\n",
       "    <tr>\n",
       "      <th>C(light, Sum)</th>\n",
       "      <td>7.199438</td>\n",
       "      <td>2.0</td>\n",
       "      <td>15.810010</td>\n",
       "      <td>1.596656e-06</td>\n",
       "    </tr>\n",
       "    <tr>\n",
       "      <th>C(medium, Sum)</th>\n",
       "      <td>83.627589</td>\n",
       "      <td>3.0</td>\n",
       "      <td>122.431128</td>\n",
       "      <td>5.289502e-30</td>\n",
       "    </tr>\n",
       "    <tr>\n",
       "      <th>C(watering, Sum)</th>\n",
       "      <td>39.285002</td>\n",
       "      <td>2.0</td>\n",
       "      <td>86.270101</td>\n",
       "      <td>8.506415e-21</td>\n",
       "    </tr>\n",
       "    <tr>\n",
       "      <th>C(light, Sum):C(medium, Sum)</th>\n",
       "      <td>1.282499</td>\n",
       "      <td>6.0</td>\n",
       "      <td>0.938792</td>\n",
       "      <td>4.720616e-01</td>\n",
       "    </tr>\n",
       "    <tr>\n",
       "      <th>C(light, Sum):C(watering, Sum)</th>\n",
       "      <td>1.378317</td>\n",
       "      <td>4.0</td>\n",
       "      <td>1.513396</td>\n",
       "      <td>2.060287e-01</td>\n",
       "    </tr>\n",
       "    <tr>\n",
       "      <th>C(medium, Sum):C(watering, Sum)</th>\n",
       "      <td>1.964641</td>\n",
       "      <td>6.0</td>\n",
       "      <td>1.438121</td>\n",
       "      <td>2.103382e-01</td>\n",
       "    </tr>\n",
       "    <tr>\n",
       "      <th>Residual</th>\n",
       "      <td>18.442572</td>\n",
       "      <td>81.0</td>\n",
       "      <td>NaN</td>\n",
       "      <td>NaN</td>\n",
       "    </tr>\n",
       "  </tbody>\n",
       "</table>\n",
       "</div>"
      ],
      "text/plain": [
       "                                     sum_sq    df            F        PR(>F)\n",
       "Intercept                        365.503743   1.0  1605.296864  3.627420e-55\n",
       "C(light, Sum)                      7.199438   2.0    15.810010  1.596656e-06\n",
       "C(medium, Sum)                    83.627589   3.0   122.431128  5.289502e-30\n",
       "C(watering, Sum)                  39.285002   2.0    86.270101  8.506415e-21\n",
       "C(light, Sum):C(medium, Sum)       1.282499   6.0     0.938792  4.720616e-01\n",
       "C(light, Sum):C(watering, Sum)     1.378317   4.0     1.513396  2.060287e-01\n",
       "C(medium, Sum):C(watering, Sum)    1.964641   6.0     1.438121  2.103382e-01\n",
       "Residual                          18.442572  81.0          NaN           NaN"
      ]
     },
     "execution_count": 24,
     "metadata": {},
     "output_type": "execute_result"
    }
   ],
   "source": [
    "model = ols(\"weight ~ C(light, Sum) + C(medium, Sum) + C(watering, Sum) + C(light, Sum):C(medium, Sum) + C(light, Sum):C(watering, Sum) + C(medium, Sum):C(watering, Sum)\", data=df).fit()\n",
    "\n",
    "aov_table = sm.stats.anova_lm(model, typ=3)\n",
    "aov_table"
   ]
  },
  {
   "cell_type": "markdown",
   "metadata": {},
   "source": [
    "Same situation we can observe here. The interaction between two-pairs combinations is statistically non-significant. Thus this term should be removed from the ANOVA model and re-ran"
   ]
  },
  {
   "cell_type": "code",
   "execution_count": 25,
   "metadata": {},
   "outputs": [
    {
     "data": {
      "text/html": [
       "<div>\n",
       "<style scoped>\n",
       "    .dataframe tbody tr th:only-of-type {\n",
       "        vertical-align: middle;\n",
       "    }\n",
       "\n",
       "    .dataframe tbody tr th {\n",
       "        vertical-align: top;\n",
       "    }\n",
       "\n",
       "    .dataframe thead th {\n",
       "        text-align: right;\n",
       "    }\n",
       "</style>\n",
       "<table border=\"1\" class=\"dataframe\">\n",
       "  <thead>\n",
       "    <tr style=\"text-align: right;\">\n",
       "      <th></th>\n",
       "      <th>sum_sq</th>\n",
       "      <th>df</th>\n",
       "      <th>F</th>\n",
       "      <th>PR(&gt;F)</th>\n",
       "    </tr>\n",
       "  </thead>\n",
       "  <tbody>\n",
       "    <tr>\n",
       "      <th>Intercept</th>\n",
       "      <td>368.566929</td>\n",
       "      <td>1.0</td>\n",
       "      <td>1540.189523</td>\n",
       "      <td>2.483426e-61</td>\n",
       "    </tr>\n",
       "    <tr>\n",
       "      <th>C(light, Sum)</th>\n",
       "      <td>7.230904</td>\n",
       "      <td>2.0</td>\n",
       "      <td>15.108466</td>\n",
       "      <td>1.940888e-06</td>\n",
       "    </tr>\n",
       "    <tr>\n",
       "      <th>C(medium, Sum)</th>\n",
       "      <td>84.005218</td>\n",
       "      <td>3.0</td>\n",
       "      <td>117.015342</td>\n",
       "      <td>4.132096e-32</td>\n",
       "    </tr>\n",
       "    <tr>\n",
       "      <th>C(watering, Sum)</th>\n",
       "      <td>39.333620</td>\n",
       "      <td>2.0</td>\n",
       "      <td>82.184842</td>\n",
       "      <td>1.322974e-21</td>\n",
       "    </tr>\n",
       "    <tr>\n",
       "      <th>Residual</th>\n",
       "      <td>23.212073</td>\n",
       "      <td>97.0</td>\n",
       "      <td>NaN</td>\n",
       "      <td>NaN</td>\n",
       "    </tr>\n",
       "  </tbody>\n",
       "</table>\n",
       "</div>"
      ],
      "text/plain": [
       "                      sum_sq    df            F        PR(>F)\n",
       "Intercept         368.566929   1.0  1540.189523  2.483426e-61\n",
       "C(light, Sum)       7.230904   2.0    15.108466  1.940888e-06\n",
       "C(medium, Sum)     84.005218   3.0   117.015342  4.132096e-32\n",
       "C(watering, Sum)   39.333620   2.0    82.184842  1.322974e-21\n",
       "Residual           23.212073  97.0          NaN           NaN"
      ]
     },
     "execution_count": 25,
     "metadata": {},
     "output_type": "execute_result"
    }
   ],
   "source": [
    "model = ols(\"weight ~ C(light, Sum) + C(medium, Sum) + C(watering, Sum) + C(light, Sum)\", data=df).fit()\n",
    "\n",
    "aov_table = sm.stats.anova_lm(model, typ=3)\n",
    "aov_table"
   ]
  },
  {
   "cell_type": "markdown",
   "metadata": {},
   "source": [
    "A study was designed to determine the optimal operating conditions to maximize weight. The study assessed different light, 4 types of medium, and watering. The overall interaction between the three factors was statistically non-significant, F(12, 69.0)= 1.25, p-value= 0.268. After looking at the reduced model the only significant interaction was medium and watering. The non-signifance interactions were removed and the final model showed that medium have a statistically significant interaction effect on weight, F(3, 97)=117.015, p-value= 4.1231e-32\n"
   ]
  },
  {
   "cell_type": "code",
   "execution_count": null,
   "metadata": {},
   "outputs": [],
   "source": []
  }
 ],
 "metadata": {
  "interpreter": {
   "hash": "67645e4edde45144644326d4815cd26b14c8093db79836f9b69d4c3e18d9122c"
  },
  "kernelspec": {
   "display_name": "Python 3.8.10 64-bit (windows store)",
   "language": "python",
   "name": "python3"
  },
  "language_info": {
   "codemirror_mode": {
    "name": "ipython",
    "version": 3
   },
   "file_extension": ".py",
   "mimetype": "text/x-python",
   "name": "python",
   "nbconvert_exporter": "python",
   "pygments_lexer": "ipython3",
   "version": "3.8.10"
  },
  "orig_nbformat": 4
 },
 "nbformat": 4,
 "nbformat_minor": 2
}
