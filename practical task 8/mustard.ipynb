{
 "cells": [
  {
   "cell_type": "code",
   "execution_count": 1,
   "metadata": {},
   "outputs": [],
   "source": [
    "import pandas as pd \n",
    "import numpy as np\n",
    "from matplotlib import pyplot as plt\n",
    "import seaborn as sns"
   ]
  },
  {
   "cell_type": "code",
   "execution_count": 2,
   "metadata": {},
   "outputs": [],
   "source": [
    "pd.set_option(\"display.precision\", 3)"
   ]
  },
  {
   "cell_type": "code",
   "execution_count": 3,
   "metadata": {},
   "outputs": [],
   "source": [
    "# Load dataset\n",
    "mustard = pd.read_csv(\"Mustard.csv\", index_col=False, header=0) "
   ]
  },
  {
   "cell_type": "code",
   "execution_count": 4,
   "metadata": {},
   "outputs": [
    {
     "data": {
      "text/html": [
       "<div>\n",
       "<style scoped>\n",
       "    .dataframe tbody tr th:only-of-type {\n",
       "        vertical-align: middle;\n",
       "    }\n",
       "\n",
       "    .dataframe tbody tr th {\n",
       "        vertical-align: top;\n",
       "    }\n",
       "\n",
       "    .dataframe thead th {\n",
       "        text-align: right;\n",
       "    }\n",
       "</style>\n",
       "<table border=\"1\" class=\"dataframe\">\n",
       "  <thead>\n",
       "    <tr style=\"text-align: right;\">\n",
       "      <th></th>\n",
       "      <th>weight</th>\n",
       "      <th>light</th>\n",
       "      <th>watering</th>\n",
       "      <th>medium</th>\n",
       "    </tr>\n",
       "  </thead>\n",
       "  <tbody>\n",
       "    <tr>\n",
       "      <th>0</th>\n",
       "      <td>2.02</td>\n",
       "      <td>normal</td>\n",
       "      <td>1</td>\n",
       "      <td>soil</td>\n",
       "    </tr>\n",
       "    <tr>\n",
       "      <th>1</th>\n",
       "      <td>0.30</td>\n",
       "      <td>normal</td>\n",
       "      <td>1</td>\n",
       "      <td>cottonwool</td>\n",
       "    </tr>\n",
       "    <tr>\n",
       "      <th>2</th>\n",
       "      <td>0.27</td>\n",
       "      <td>normal</td>\n",
       "      <td>1</td>\n",
       "      <td>newspaper</td>\n",
       "    </tr>\n",
       "    <tr>\n",
       "      <th>3</th>\n",
       "      <td>0.09</td>\n",
       "      <td>normal</td>\n",
       "      <td>1</td>\n",
       "      <td>sawdust</td>\n",
       "    </tr>\n",
       "    <tr>\n",
       "      <th>4</th>\n",
       "      <td>2.04</td>\n",
       "      <td>normal</td>\n",
       "      <td>1</td>\n",
       "      <td>soil</td>\n",
       "    </tr>\n",
       "    <tr>\n",
       "      <th>...</th>\n",
       "      <td>...</td>\n",
       "      <td>...</td>\n",
       "      <td>...</td>\n",
       "      <td>...</td>\n",
       "    </tr>\n",
       "    <tr>\n",
       "      <th>103</th>\n",
       "      <td>2.36</td>\n",
       "      <td>green</td>\n",
       "      <td>5</td>\n",
       "      <td>sawdust</td>\n",
       "    </tr>\n",
       "    <tr>\n",
       "      <th>104</th>\n",
       "      <td>4.56</td>\n",
       "      <td>green</td>\n",
       "      <td>5</td>\n",
       "      <td>soil</td>\n",
       "    </tr>\n",
       "    <tr>\n",
       "      <th>105</th>\n",
       "      <td>2.30</td>\n",
       "      <td>green</td>\n",
       "      <td>5</td>\n",
       "      <td>cottonwool</td>\n",
       "    </tr>\n",
       "    <tr>\n",
       "      <th>106</th>\n",
       "      <td>2.40</td>\n",
       "      <td>green</td>\n",
       "      <td>5</td>\n",
       "      <td>newspaper</td>\n",
       "    </tr>\n",
       "    <tr>\n",
       "      <th>107</th>\n",
       "      <td>1.27</td>\n",
       "      <td>green</td>\n",
       "      <td>5</td>\n",
       "      <td>sawdust</td>\n",
       "    </tr>\n",
       "  </tbody>\n",
       "</table>\n",
       "<p>108 rows × 4 columns</p>\n",
       "</div>"
      ],
      "text/plain": [
       "     weight   light  watering      medium\n",
       "0      2.02  normal         1        soil\n",
       "1      0.30  normal         1  cottonwool\n",
       "2      0.27  normal         1   newspaper\n",
       "3      0.09  normal         1     sawdust\n",
       "4      2.04  normal         1        soil\n",
       "..      ...     ...       ...         ...\n",
       "103    2.36   green         5     sawdust\n",
       "104    4.56   green         5        soil\n",
       "105    2.30   green         5  cottonwool\n",
       "106    2.40   green         5   newspaper\n",
       "107    1.27   green         5     sawdust\n",
       "\n",
       "[108 rows x 4 columns]"
      ]
     },
     "execution_count": 4,
     "metadata": {},
     "output_type": "execute_result"
    }
   ],
   "source": [
    "mustard"
   ]
  },
  {
   "cell_type": "code",
   "execution_count": 5,
   "metadata": {},
   "outputs": [],
   "source": [
    "mustard.dropna(subset = [\"weight\"], inplace=True)\n",
    "mustard.dropna(subset = [\"light\"], inplace=True)\n",
    "mustard.dropna(subset = [\"watering\"], inplace=True)\n",
    "mustard.dropna(subset = [\"medium\"], inplace=True)"
   ]
  },
  {
   "cell_type": "code",
   "execution_count": 6,
   "metadata": {},
   "outputs": [
    {
     "data": {
      "text/html": [
       "<div>\n",
       "<style scoped>\n",
       "    .dataframe tbody tr th:only-of-type {\n",
       "        vertical-align: middle;\n",
       "    }\n",
       "\n",
       "    .dataframe tbody tr th {\n",
       "        vertical-align: top;\n",
       "    }\n",
       "\n",
       "    .dataframe thead th {\n",
       "        text-align: right;\n",
       "    }\n",
       "</style>\n",
       "<table border=\"1\" class=\"dataframe\">\n",
       "  <thead>\n",
       "    <tr style=\"text-align: right;\">\n",
       "      <th></th>\n",
       "      <th>weight</th>\n",
       "      <th>watering</th>\n",
       "    </tr>\n",
       "  </thead>\n",
       "  <tbody>\n",
       "    <tr>\n",
       "      <th>count</th>\n",
       "      <td>105.000</td>\n",
       "      <td>105.000</td>\n",
       "    </tr>\n",
       "    <tr>\n",
       "      <th>mean</th>\n",
       "      <td>1.879</td>\n",
       "      <td>2.981</td>\n",
       "    </tr>\n",
       "    <tr>\n",
       "      <th>std</th>\n",
       "      <td>1.222</td>\n",
       "      <td>1.652</td>\n",
       "    </tr>\n",
       "    <tr>\n",
       "      <th>min</th>\n",
       "      <td>0.060</td>\n",
       "      <td>1.000</td>\n",
       "    </tr>\n",
       "    <tr>\n",
       "      <th>25%</th>\n",
       "      <td>0.980</td>\n",
       "      <td>1.000</td>\n",
       "    </tr>\n",
       "    <tr>\n",
       "      <th>50%</th>\n",
       "      <td>1.780</td>\n",
       "      <td>3.000</td>\n",
       "    </tr>\n",
       "    <tr>\n",
       "      <th>75%</th>\n",
       "      <td>2.400</td>\n",
       "      <td>5.000</td>\n",
       "    </tr>\n",
       "    <tr>\n",
       "      <th>max</th>\n",
       "      <td>5.600</td>\n",
       "      <td>5.000</td>\n",
       "    </tr>\n",
       "  </tbody>\n",
       "</table>\n",
       "</div>"
      ],
      "text/plain": [
       "        weight  watering\n",
       "count  105.000   105.000\n",
       "mean     1.879     2.981\n",
       "std      1.222     1.652\n",
       "min      0.060     1.000\n",
       "25%      0.980     1.000\n",
       "50%      1.780     3.000\n",
       "75%      2.400     5.000\n",
       "max      5.600     5.000"
      ]
     },
     "execution_count": 6,
     "metadata": {},
     "output_type": "execute_result"
    }
   ],
   "source": [
    "mustard.describe()"
   ]
  },
  {
   "cell_type": "code",
   "execution_count": 7,
   "metadata": {},
   "outputs": [
    {
     "data": {
      "image/png": "[encoded data removed]",
      "text/plain": [
       "<Figure size 432x288 with 1 Axes>"
      ]
     },
     "metadata": {
      "needs_background": "light"
     },
     "output_type": "display_data"
    },
    {
     "data": {
      "image/png": "[encoded data removed]",
      "text/plain": [
       "<Figure size 432x288 with 1 Axes>"
      ]
     },
     "metadata": {
      "needs_background": "light"
     },
     "output_type": "display_data"
    },
    {
     "data": {
      "image/png": "[encoded data removed]",
      "text/plain": [
       "<Figure size 432x288 with 1 Axes>"
      ]
     },
     "metadata": {
      "needs_background": "light"
     },
     "output_type": "display_data"
    },
    {
     "data": {
      "image/png": "[encoded data removed]",
      "text/plain": [
       "<Figure size 432x288 with 1 Axes>"
      ]
     },
     "metadata": {
      "needs_background": "light"
     },
     "output_type": "display_data"
    }
   ],
   "source": [
    "for column in mustard.columns:\n",
    "    sns.histplot(data=mustard[column], stat=\"frequency\")\n",
    "    plt.show()"
   ]
  },
  {
   "cell_type": "markdown",
   "metadata": {},
   "source": [
    "According to description of dataset 'watering', 'medium' and 'light' indeed have the same amount of combination \n",
    "At the end of analysis the most frequent weight is 1.5"
   ]
  },
  {
   "cell_type": "code",
   "execution_count": 8,
   "metadata": {},
   "outputs": [
    {
     "name": "stdout",
     "output_type": "stream",
     "text": [
      "DataFrame 0 with medium = soil, watering = 1, light = normal \n",
      "   weight   light  watering medium\n",
      "0    2.02  normal         1   soil\n",
      "4    2.04  normal         1   soil\n",
      "8    1.63  normal         1   soil\n",
      "Mean of variable weight: \n",
      "1.897\n",
      "\n",
      "DataFrame 1 with medium = soil, watering = 1, light = red \n",
      "    weight light  watering medium\n",
      "36   3.345   red         1   soil\n",
      "40   1.940   red         1   soil\n",
      "44   4.640   red         1   soil\n",
      "Mean of variable weight: \n",
      "3.308\n",
      "\n",
      "DataFrame 2 with medium = soil, watering = 1, light = green \n",
      "    weight  light  watering medium\n",
      "72    3.26  green         1   soil\n",
      "76    3.37  green         1   soil\n",
      "80    2.13  green         1   soil\n",
      "Mean of variable weight: \n",
      "2.920\n",
      "\n",
      "DataFrame 3 with medium = soil, watering = 3, light = normal \n",
      "    weight   light  watering medium\n",
      "12    3.90  normal         3   soil\n",
      "16    2.28  normal         3   soil\n",
      "20    2.69  normal         3   soil\n",
      "Mean of variable weight: \n",
      "2.957\n",
      "\n",
      "DataFrame 4 with medium = soil, watering = 3, light = red \n",
      "    weight light  watering medium\n",
      "48    2.91   red         3   soil\n",
      "52    3.08   red         3   soil\n",
      "56    2.99   red         3   soil\n",
      "Mean of variable weight: \n",
      "2.993\n",
      "\n",
      "DataFrame 5 with medium = soil, watering = 3, light = green \n",
      "    weight  light  watering medium\n",
      "84   5.600  green         3   soil\n",
      "88   4.260  green         3   soil\n",
      "92   3.365  green         3   soil\n",
      "Mean of variable weight: \n",
      "4.408\n",
      "\n",
      "DataFrame 6 with medium = soil, watering = 5, light = normal \n",
      "    weight   light  watering medium\n",
      "24    3.50  normal         5   soil\n",
      "28    4.15  normal         5   soil\n",
      "32    3.50  normal         5   soil\n",
      "Mean of variable weight: \n",
      "3.717\n",
      "\n",
      "DataFrame 7 with medium = soil, watering = 5, light = red \n",
      "    weight light  watering medium\n",
      "60    4.03   red         5   soil\n",
      "64    3.56   red         5   soil\n",
      "68    3.93   red         5   soil\n",
      "Mean of variable weight: \n",
      "3.840\n",
      "\n",
      "DataFrame 8 with medium = soil, watering = 5, light = green \n",
      "     weight  light  watering medium\n",
      "96     4.28  green         5   soil\n",
      "100    4.86  green         5   soil\n",
      "104    4.56  green         5   soil\n",
      "Mean of variable weight: \n",
      "4.567\n",
      "\n",
      "DataFrame 9 with medium = cottonwool, watering = 1, light = normal \n",
      "   weight   light  watering      medium\n",
      "1    0.30  normal         1  cottonwool\n",
      "5    0.10  normal         1  cottonwool\n",
      "9    0.34  normal         1  cottonwool\n",
      "Mean of variable weight: \n",
      "0.247\n",
      "\n",
      "DataFrame 10 with medium = cottonwool, watering = 1, light = red \n",
      "    weight light  watering      medium\n",
      "37    0.70   red         1  cottonwool\n",
      "41    0.45   red         1  cottonwool\n",
      "45    0.33   red         1  cottonwool\n",
      "Mean of variable weight: \n",
      "0.493\n",
      "\n",
      "DataFrame 11 with medium = cottonwool, watering = 1, light = green \n",
      "    weight  light  watering      medium\n",
      "73    0.73  green         1  cottonwool\n",
      "77    0.48  green         1  cottonwool\n",
      "81    0.40  green         1  cottonwool\n",
      "Mean of variable weight: \n",
      "0.537\n",
      "\n",
      "DataFrame 12 with medium = cottonwool, watering = 3, light = normal \n",
      "    weight   light  watering      medium\n",
      "13    1.35  normal         3  cottonwool\n",
      "17    1.91  normal         3  cottonwool\n",
      "21    1.38  normal         3  cottonwool\n",
      "Mean of variable weight: \n",
      "1.547\n",
      "\n",
      "DataFrame 13 with medium = cottonwool, watering = 3, light = red \n",
      "    weight light  watering      medium\n",
      "49    1.38   red         3  cottonwool\n",
      "53    1.72   red         3  cottonwool\n",
      "57    2.09   red         3  cottonwool\n",
      "Mean of variable weight: \n",
      "1.730\n",
      "\n",
      "DataFrame 14 with medium = cottonwool, watering = 3, light = green \n",
      "    weight  light  watering      medium\n",
      "85    2.42  green         3  cottonwool\n",
      "89    2.01  green         3  cottonwool\n",
      "93    2.56  green         3  cottonwool\n",
      "Mean of variable weight: \n",
      "2.330\n",
      "\n",
      "DataFrame 15 with medium = cottonwool, watering = 5, light = normal \n",
      "    weight   light  watering      medium\n",
      "25    1.74  normal         5  cottonwool\n",
      "29    2.02  normal         5  cottonwool\n",
      "33    2.03  normal         5  cottonwool\n",
      "Mean of variable weight: \n",
      "1.930\n",
      "\n",
      "DataFrame 16 with medium = cottonwool, watering = 5, light = red \n",
      "    weight light  watering      medium\n",
      "61    2.32   red         5  cottonwool\n",
      "65    2.31   red         5  cottonwool\n",
      "69    2.15   red         5  cottonwool\n",
      "Mean of variable weight: \n",
      "2.260\n",
      "\n",
      "DataFrame 17 with medium = cottonwool, watering = 5, light = green \n",
      "     weight  light  watering      medium\n",
      "97     2.44  green         5  cottonwool\n",
      "101    3.08  green         5  cottonwool\n",
      "105    2.30  green         5  cottonwool\n",
      "Mean of variable weight: \n",
      "2.607\n",
      "\n",
      "DataFrame 18 with medium = newspaper, watering = 1, light = normal \n",
      "    weight   light  watering     medium\n",
      "2     0.27  normal         1  newspaper\n",
      "6     0.17  normal         1  newspaper\n",
      "10    0.33  normal         1  newspaper\n",
      "Mean of variable weight: \n",
      "0.257\n",
      "\n",
      "DataFrame 19 with medium = newspaper, watering = 1, light = red \n",
      "    weight light  watering     medium\n",
      "38    0.22   red         1  newspaper\n",
      "42    1.18   red         1  newspaper\n",
      "46    0.64   red         1  newspaper\n",
      "Mean of variable weight: \n",
      "0.680\n",
      "\n",
      "DataFrame 20 with medium = newspaper, watering = 1, light = green \n",
      "    weight  light  watering     medium\n",
      "74    0.89  green         1  newspaper\n",
      "78    0.77  green         1  newspaper\n",
      "82    0.74  green         1  newspaper\n",
      "Mean of variable weight: \n",
      "0.800\n",
      "\n",
      "DataFrame 21 with medium = newspaper, watering = 3, light = normal \n",
      "    weight   light  watering     medium\n",
      "14    0.80  normal         3  newspaper\n",
      "18    1.81  normal         3  newspaper\n",
      "22    1.58  normal         3  newspaper\n",
      "Mean of variable weight: \n",
      "1.397\n",
      "\n",
      "DataFrame 22 with medium = newspaper, watering = 3, light = red \n",
      "    weight light  watering     medium\n",
      "50    2.29   red         3  newspaper\n",
      "54    1.55   red         3  newspaper\n",
      "58    1.98   red         3  newspaper\n",
      "Mean of variable weight: \n",
      "1.940\n",
      "\n",
      "DataFrame 23 with medium = newspaper, watering = 3, light = green \n",
      "    weight  light  watering     medium\n",
      "90    1.35  green         3  newspaper\n",
      "Mean of variable weight: \n",
      "1.350\n",
      "\n",
      "DataFrame 24 with medium = newspaper, watering = 5, light = normal \n",
      "    weight   light  watering     medium\n",
      "26    1.90  normal         5  newspaper\n",
      "34    1.65  normal         5  newspaper\n",
      "Mean of variable weight: \n",
      "1.775\n",
      "\n",
      "DataFrame 25 with medium = newspaper, watering = 5, light = red \n",
      "    weight light  watering     medium\n",
      "62    1.21   red         5  newspaper\n",
      "66    2.03   red         5  newspaper\n",
      "70    1.78   red         5  newspaper\n",
      "Mean of variable weight: \n",
      "1.673\n",
      "\n",
      "DataFrame 26 with medium = newspaper, watering = 5, light = green \n",
      "     weight  light  watering     medium\n",
      "98     2.04  green         5  newspaper\n",
      "102    2.05  green         5  newspaper\n",
      "106    2.40  green         5  newspaper\n",
      "Mean of variable weight: \n",
      "2.163\n",
      "\n",
      "DataFrame 27 with medium = sawdust, watering = 1, light = normal \n",
      "    weight   light  watering   medium\n",
      "3     0.09  normal         1  sawdust\n",
      "7     0.06  normal         1  sawdust\n",
      "11    0.16  normal         1  sawdust\n",
      "Mean of variable weight: \n",
      "0.103\n",
      "\n",
      "DataFrame 28 with medium = sawdust, watering = 1, light = red \n",
      "    weight light  watering   medium\n",
      "39    0.23   red         1  sawdust\n",
      "43    1.33   red         1  sawdust\n",
      "47    0.29   red         1  sawdust\n",
      "Mean of variable weight: \n",
      "0.617\n",
      "\n",
      "DataFrame 29 with medium = sawdust, watering = 1, light = green \n",
      "    weight  light  watering   medium\n",
      "75    1.42  green         1  sawdust\n",
      "79    0.18  green         1  sawdust\n",
      "83    0.88  green         1  sawdust\n",
      "Mean of variable weight: \n",
      "0.827\n",
      "\n",
      "DataFrame 30 with medium = sawdust, watering = 3, light = normal \n",
      "    weight   light  watering   medium\n",
      "15    1.31  normal         3  sawdust\n",
      "19    1.26  normal         3  sawdust\n",
      "23    1.43  normal         3  sawdust\n",
      "Mean of variable weight: \n",
      "1.333\n",
      "\n",
      "DataFrame 31 with medium = sawdust, watering = 3, light = red \n",
      "    weight light  watering   medium\n",
      "51    0.98   red         3  sawdust\n",
      "55    0.95   red         3  sawdust\n",
      "59    1.11   red         3  sawdust\n",
      "Mean of variable weight: \n",
      "1.013\n",
      "\n",
      "DataFrame 32 with medium = sawdust, watering = 3, light = green \n",
      "    weight  light  watering   medium\n",
      "87    1.34  green         3  sawdust\n",
      "91    1.42  green         3  sawdust\n",
      "95    1.54  green         3  sawdust\n",
      "Mean of variable weight: \n",
      "1.433\n",
      "\n",
      "DataFrame 33 with medium = sawdust, watering = 5, light = normal \n",
      "    weight   light  watering   medium\n",
      "27    1.61  normal         5  sawdust\n",
      "31    1.60  normal         5  sawdust\n",
      "35    1.41  normal         5  sawdust\n",
      "Mean of variable weight: \n",
      "1.540\n",
      "\n",
      "DataFrame 34 with medium = sawdust, watering = 5, light = red \n",
      "    weight light  watering   medium\n",
      "63    1.79   red         5  sawdust\n",
      "67    2.10   red         5  sawdust\n",
      "71    1.86   red         5  sawdust\n",
      "Mean of variable weight: \n",
      "1.917\n",
      "\n",
      "DataFrame 35 with medium = sawdust, watering = 5, light = green \n",
      "     weight  light  watering   medium\n",
      "99     2.81  green         5  sawdust\n",
      "103    2.36  green         5  sawdust\n",
      "107    1.27  green         5  sawdust\n",
      "Mean of variable weight: \n",
      "2.147\n",
      "\n"
     ]
    }
   ],
   "source": [
    "means = []\n",
    "amount_df = -1\n",
    "for medium in mustard['medium'].unique():\n",
    "    for watering in mustard['watering'].unique():\n",
    "        for light in mustard['light'].unique():\n",
    "            df = mustard[(mustard['medium'] == medium) & (mustard['watering'] == watering) & (mustard['light'] == light)]\n",
    "            amount_df += 1\n",
    "            print(f'DataFrame {amount_df} with medium = {medium}, watering = {watering}, light = {light} \\n{df}')\n",
    "            print(f'Mean of variable weight: \\n{df.weight.mean():.{3}f}\\n')\n",
    "            means.append(round(df.weight.mean(), 3))"
   ]
  },
  {
   "cell_type": "code",
   "execution_count": 9,
   "metadata": {},
   "outputs": [
    {
     "name": "stdout",
     "output_type": "stream",
     "text": [
      "Number of DataFrame: 8, mean: 4.567\n"
     ]
    }
   ],
   "source": [
    "import operator\n",
    "index, value = max(enumerate(means), key=operator.itemgetter(1))\n",
    "print(f'Number of DataFrame: {index}, mean: {value}')"
   ]
  },
  {
   "cell_type": "code",
   "execution_count": 10,
   "metadata": {},
   "outputs": [
    {
     "data": {
      "text/html": [
       "<div>\n",
       "<style scoped>\n",
       "    .dataframe tbody tr th:only-of-type {\n",
       "        vertical-align: middle;\n",
       "    }\n",
       "\n",
       "    .dataframe tbody tr th {\n",
       "        vertical-align: top;\n",
       "    }\n",
       "\n",
       "    .dataframe thead th {\n",
       "        text-align: right;\n",
       "    }\n",
       "</style>\n",
       "<table border=\"1\" class=\"dataframe\">\n",
       "  <thead>\n",
       "    <tr style=\"text-align: right;\">\n",
       "      <th></th>\n",
       "      <th>Num of DF</th>\n",
       "      <th>Mean of Weight</th>\n",
       "    </tr>\n",
       "  </thead>\n",
       "  <tbody>\n",
       "    <tr>\n",
       "      <th>0</th>\n",
       "      <td>0</td>\n",
       "      <td>1.897</td>\n",
       "    </tr>\n",
       "    <tr>\n",
       "      <th>1</th>\n",
       "      <td>1</td>\n",
       "      <td>3.308</td>\n",
       "    </tr>\n",
       "    <tr>\n",
       "      <th>2</th>\n",
       "      <td>2</td>\n",
       "      <td>2.920</td>\n",
       "    </tr>\n",
       "    <tr>\n",
       "      <th>3</th>\n",
       "      <td>3</td>\n",
       "      <td>2.957</td>\n",
       "    </tr>\n",
       "    <tr>\n",
       "      <th>4</th>\n",
       "      <td>4</td>\n",
       "      <td>2.993</td>\n",
       "    </tr>\n",
       "  </tbody>\n",
       "</table>\n",
       "</div>"
      ],
      "text/plain": [
       "   Num of DF  Mean of Weight\n",
       "0          0           1.897\n",
       "1          1           3.308\n",
       "2          2           2.920\n",
       "3          3           2.957\n",
       "4          4           2.993"
      ]
     },
     "execution_count": 10,
     "metadata": {},
     "output_type": "execute_result"
    }
   ],
   "source": [
    "means_df = pd.DataFrame({'Mean of Weight': means})\n",
    "means_df['Num of DF'] = means_df.index\n",
    "cols = means_df.columns.tolist()\n",
    "cols = cols[-1:] + cols[:-1]\n",
    "means_df = means_df[cols]\n",
    "means_df.head()"
   ]
  },
  {
   "cell_type": "code",
   "execution_count": 11,
   "metadata": {},
   "outputs": [
    {
     "data": {
      "text/plain": [
       "<AxesSubplot:xlabel='Num of DF'>"
      ]
     },
     "execution_count": 11,
     "metadata": {},
     "output_type": "execute_result"
    },
    {
     "data": {
      "image/png": "[encoded data removed]",
      "text/plain": [
       "<Figure size 432x288 with 1 Axes>"
      ]
     },
     "metadata": {
      "needs_background": "light"
     },
     "output_type": "display_data"
    }
   ],
   "source": [
    "means_df.plot.bar(x='Num of DF', y='Mean of Weight')"
   ]
  },
  {
   "cell_type": "markdown",
   "metadata": {},
   "source": [
    "### so the most effective combination of factors are for 8th DF: medium = soil, watering = 5, light = green "
   ]
  },
  {
   "cell_type": "code",
   "execution_count": 12,
   "metadata": {},
   "outputs": [
    {
     "data": {
      "image/png": "[encoded data removed]",
      "text/plain": [
       "<Figure size 432x288 with 1 Axes>"
      ]
     },
     "metadata": {
      "needs_background": "light"
     },
     "output_type": "display_data"
    }
   ],
   "source": [
    "boxplot = mustard.boxplot(column=\"weight\", by=\"medium\")"
   ]
  },
  {
   "cell_type": "code",
   "execution_count": 13,
   "metadata": {},
   "outputs": [
    {
     "name": "stdout",
     "output_type": "stream",
     "text": [
      "               n   mean  median     sd    iqr   min   max\n",
      "medium                                                   \n",
      "cottonwool  27.0  1.520    1.74  0.875  1.635  0.10  3.08\n",
      "newspaper   24.0  1.318    1.45  0.702  1.157  0.17  2.40\n",
      "sawdust     27.0  1.214    1.33  0.703  0.655  0.06  2.81\n",
      "soil        27.0  3.401    3.37  0.997  1.290  1.63  5.60\n"
     ]
    }
   ],
   "source": [
    "from scipy.stats import iqr\n",
    "from statsmodels.stats.weightstats import ttest_ind\n",
    "# Compute summary statistics for each group (single and team)\n",
    "tab = mustard.groupby(\"medium\")[\"weight\"].agg(n=len, \n",
    "                                               mean=np.mean, \n",
    "                                               median=np.median,\n",
    "                                               sd=np.std,\n",
    "                                               iqr=iqr,\n",
    "                                               min=min,\n",
    "                                               max=max)\n",
    "print(tab)"
   ]
  },
  {
   "cell_type": "markdown",
   "metadata": {},
   "source": [
    "### as we can see the mustard with soil medium weight more than others "
   ]
  },
  {
   "cell_type": "code",
   "execution_count": 14,
   "metadata": {},
   "outputs": [
    {
     "name": "stdout",
     "output_type": "stream",
     "text": [
      "soil > cottonwool: t = 7.4, p-value = 6e-10, df = 52\n",
      "soil > newspaper: t = 8.5, p-value = 2e-11, df = 49\n",
      "soil > sawdust: t = 9.3, p-value = 6e-13, df = 52\n"
     ]
    }
   ],
   "source": [
    "x1 = mustard[mustard['medium']=='soil']['weight']\n",
    "for medium in mustard['medium'].unique():\n",
    "    if medium != 'soil':\n",
    "        x2 = mustard[mustard['medium']==medium]['weight']\n",
    "        ttest = ttest_ind(x1=x1, x2=x2, alternative=\"larger\", usevar=\"pooled\")\n",
    "        print(f\"soil > {medium}: t = {ttest[0]:.1f}, p-value = {ttest[1]:.1g}, df = {ttest[2]:.0f}\")"
   ]
  },
  {
   "cell_type": "code",
   "execution_count": 15,
   "metadata": {},
   "outputs": [
    {
     "name": "stdout",
     "output_type": "stream",
     "text": [
      "statistic = 41.154629443450276\n",
      "pvalue = 1.8460477843877034e-17\n",
      "df = (3.0, 101.0)\n",
      "df_num = 3.0\n",
      "df_denom = 101.0\n",
      "nobs_t = 105.0\n",
      "n_groups = 4\n",
      "means = [1.52       1.31791667 1.21444444 3.40074074]\n",
      "nobs = [27. 24. 27. 27.]\n",
      "vars_ = [0.76597692 0.49217373 0.49478718 0.99345905]\n",
      "use_var = equal\n",
      "welch_correction = False\n",
      "tuple = (41.154629443450276, 1.8460477843877034e-17)\n"
     ]
    }
   ],
   "source": [
    "from statsmodels.stats.oneway import anova_oneway\n",
    "res = anova_oneway(data=mustard[\"weight\"], groups=mustard[\"medium\"], use_var='equal', welch_correction=False)\n",
    "print(res)"
   ]
  },
  {
   "cell_type": "markdown",
   "metadata": {},
   "source": [
    "### indeed, I did 2 sample test and anova test with k samples and it shows that mustard grows better in soil medium"
   ]
  },
  {
   "cell_type": "code",
   "execution_count": null,
   "metadata": {},
   "outputs": [],
   "source": []
  }
 ],
 "metadata": {
  "interpreter": {
   "hash": "67645e4edde45144644326d4815cd26b14c8093db79836f9b69d4c3e18d9122c"
  },
  "kernelspec": {
   "display_name": "Python 3.8.10 64-bit (windows store)",
   "language": "python",
   "name": "python3"
  },
  "language_info": {
   "codemirror_mode": {
    "name": "ipython",
    "version": 3
   },
   "file_extension": ".py",
   "mimetype": "text/x-python",
   "name": "python",
   "nbconvert_exporter": "python",
   "pygments_lexer": "ipython3",
   "version": "3.8.10"
  },
  "orig_nbformat": 4
 },
 "nbformat": 4,
 "nbformat_minor": 2
}
